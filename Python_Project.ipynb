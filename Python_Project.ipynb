{
 "cells": [
  {
   "cell_type": "markdown",
   "metadata": {},
   "source": [
    "## **BCB546X Python Project**"
   ]
  },
  {
   "cell_type": "code",
   "execution_count": 1,
   "metadata": {},
   "outputs": [],
   "source": [
    "from Bio import SeqIO\n",
    "from Bio.Data import CodonTable\n",
    "import pandas as pd\n",
    "import matplotlib.pyplot as plt\n",
    "import seaborn as sns"
   ]
  },
  {
   "cell_type": "code",
   "execution_count": 2,
   "metadata": {},
   "outputs": [],
   "source": [
    "%matplotlib inline"
   ]
  },
  {
   "cell_type": "markdown",
   "metadata": {},
   "source": [
    "### **Functions**"
   ]
  },
  {
   "cell_type": "markdown",
   "metadata": {},
   "source": [
    "##### The following function utilizes the 'SeqIO.parse()' function of Biopython.\n",
    "##### In Biopython, 'Seq' objects are the most basic expressions of sequences, containing only a sequence (as a text string) and its corresponding alphabet (DNA, RNA, Protein, etc.)\n",
    "##### A 'SeqRecord' is an object that contains a 'Seq' object along with an ID tag and other possible attributes (such as name and description).\n",
    "##### 'SeqIO.parse()' takes a filename and file format as its arguments, and returns a 'SeqRecord' iterator.\n",
    "\n",
    "##### https://biopython.org/wiki/SeqIO"
   ]
  },
  {
   "cell_type": "code",
   "execution_count": 3,
   "metadata": {},
   "outputs": [],
   "source": [
    "def get_sequences_from_file(fasta_fn): #(1) Defines the function's name (which will take the name of a fasta file as its argument).\n",
    "    sequence_data_dict = {} #(2) Initializes a dictionary named 'sequence_data_dict'.\n",
    "    for record in SeqIO.parse(fasta_fn, \"fasta\"):  #(3) Initializes a for-loop over the 'SeqRecord' iterator extracted from the specified fasta file (1).\n",
    "        description_list = record.description.split() #(4) Extracts the 'description' attribute from each 'SeqRecord' and splits it into a list of individual words (named 'description_list').\n",
    "        species_name = description_list[1] + \" \" + description_list[2]  #(5) Takes the second and third items (words) from 'description_list' separated by a space, and names this string 'species_name'.\n",
    "        sequence_data_dict[species_name] = record.seq  #(6) Creates an entry in the dictionary with 'species_name' from (5) as the key and the sequence portion of the 'SeqRecord' as the value.\n",
    "    return(sequence_data_dict)  #(7) Returns the above-generated dictionary as the output of this new function."
   ]
  },
  {
   "cell_type": "code",
   "execution_count": 4,
   "metadata": {},
   "outputs": [],
   "source": [
    "def translate_function(nucseq):\n",
    "    mito_table = CodonTable.unambiguous_dna_by_name[\"Vertebrate Mitochondrial\"]\n",
    "    aa_seq = \"\"\n",
    "    for x,y,z in zip(nucseq[0::3],nucseq[1::3],nucseq[2::3]):\n",
    "        codon = x + y + z\n",
    "        if codon in [\"TAA\",\"TAG\",\"AGA\",\"AGG\"]:\n",
    "            break\n",
    "        else:\n",
    "            aa_seq += (mito_table.forward_table[codon])\n",
    "    return(aa_seq)"
   ]
  },
  {
   "cell_type": "code",
   "execution_count": 5,
   "metadata": {},
   "outputs": [],
   "source": [
    "from Bio.Seq import Seq  # Unnecessary\n",
    "def alt_translator(nucseq):\n",
    "    seq_object = nucseq.translate(table=\"Vertebrate Mitochondrial\", to_stop=True)  # https://biopython.org/wiki/Seq\n",
    "    aa_seq = \"\"\n",
    "    for n in seq_object:\n",
    "        aa_seq += n\n",
    "    return(aa_seq)"
   ]
  },
  {
   "cell_type": "code",
   "execution_count": 6,
   "metadata": {},
   "outputs": [],
   "source": [
    "from Bio.SeqUtils.ProtParam import ProteinAnalysis\n",
    "def compute_molecular_weight(aa_seq):  # https://biopython.org/wiki/ProtParam\n",
    "    return(ProteinAnalysis(aa_seq).molecular_weight())"
   ]
  },
  {
   "cell_type": "code",
   "execution_count": 7,
   "metadata": {},
   "outputs": [],
   "source": [
    "def gc_content(nucseq):\n",
    "    gc = 0\n",
    "    nuc = 0\n",
    "    for n in nucseq:\n",
    "        if n in ['G','C']:\n",
    "            gc += 1\n",
    "        if n in ['A','T','C','G']:\n",
    "            nuc += 1\n",
    "    gc_ratio = gc / nuc\n",
    "    return(gc_ratio)"
   ]
  },
  {
   "cell_type": "markdown",
   "metadata": {},
   "source": [
    "### **Main**"
   ]
  },
  {
   "cell_type": "code",
   "execution_count": 178,
   "metadata": {},
   "outputs": [],
   "source": [
    "cytb_seqs = get_sequences_from_file(\"bears_cytb.fasta\")"
   ]
  },
  {
   "cell_type": "code",
   "execution_count": 179,
   "metadata": {},
   "outputs": [],
   "source": [
    "bears_df = pd.read_csv(\"bears_mass.csv\")"
   ]
  },
  {
   "cell_type": "code",
   "execution_count": 180,
   "metadata": {},
   "outputs": [],
   "source": [
    "bears_df['Molecular_Weight'] = \"NaN\""
   ]
  },
  {
   "cell_type": "code",
   "execution_count": 181,
   "metadata": {},
   "outputs": [],
   "source": [
    "bears_df['GC_Content'] = \"NaN\""
   ]
  },
  {
   "cell_type": "code",
   "execution_count": 182,
   "metadata": {},
   "outputs": [
    {
     "data": {
      "text/html": [
       "<div>\n",
       "<style scoped>\n",
       "    .dataframe tbody tr th:only-of-type {\n",
       "        vertical-align: middle;\n",
       "    }\n",
       "\n",
       "    .dataframe tbody tr th {\n",
       "        vertical-align: top;\n",
       "    }\n",
       "\n",
       "    .dataframe thead th {\n",
       "        text-align: right;\n",
       "    }\n",
       "</style>\n",
       "<table border=\"1\" class=\"dataframe\">\n",
       "  <thead>\n",
       "    <tr style=\"text-align: right;\">\n",
       "      <th></th>\n",
       "      <th>species</th>\n",
       "      <th>mass</th>\n",
       "      <th>Molecular_Weight</th>\n",
       "      <th>GC_Content</th>\n",
       "    </tr>\n",
       "  </thead>\n",
       "  <tbody>\n",
       "    <tr>\n",
       "      <th>0</th>\n",
       "      <td>Ursus spelaeus</td>\n",
       "      <td>550.800</td>\n",
       "      <td>NaN</td>\n",
       "      <td>NaN</td>\n",
       "    </tr>\n",
       "    <tr>\n",
       "      <th>1</th>\n",
       "      <td>Ursus arctos</td>\n",
       "      <td>203.500</td>\n",
       "      <td>NaN</td>\n",
       "      <td>NaN</td>\n",
       "    </tr>\n",
       "    <tr>\n",
       "      <th>2</th>\n",
       "      <td>Ursus thibetanus</td>\n",
       "      <td>99.714</td>\n",
       "      <td>NaN</td>\n",
       "      <td>NaN</td>\n",
       "    </tr>\n",
       "    <tr>\n",
       "      <th>3</th>\n",
       "      <td>Melursus ursinus</td>\n",
       "      <td>100.030</td>\n",
       "      <td>NaN</td>\n",
       "      <td>NaN</td>\n",
       "    </tr>\n",
       "    <tr>\n",
       "      <th>4</th>\n",
       "      <td>Ursus americanus</td>\n",
       "      <td>110.560</td>\n",
       "      <td>NaN</td>\n",
       "      <td>NaN</td>\n",
       "    </tr>\n",
       "    <tr>\n",
       "      <th>5</th>\n",
       "      <td>Helarctos malayanus</td>\n",
       "      <td>47.020</td>\n",
       "      <td>NaN</td>\n",
       "      <td>NaN</td>\n",
       "    </tr>\n",
       "    <tr>\n",
       "      <th>6</th>\n",
       "      <td>Ailuropoda melanoleuca</td>\n",
       "      <td>118.200</td>\n",
       "      <td>NaN</td>\n",
       "      <td>NaN</td>\n",
       "    </tr>\n",
       "    <tr>\n",
       "      <th>7</th>\n",
       "      <td>Tremarctos ornatus</td>\n",
       "      <td>140.700</td>\n",
       "      <td>NaN</td>\n",
       "      <td>NaN</td>\n",
       "    </tr>\n",
       "    <tr>\n",
       "      <th>8</th>\n",
       "      <td>Ursus maritimus</td>\n",
       "      <td>425.100</td>\n",
       "      <td>NaN</td>\n",
       "      <td>NaN</td>\n",
       "    </tr>\n",
       "  </tbody>\n",
       "</table>\n",
       "</div>"
      ],
      "text/plain": [
       "                  species     mass Molecular_Weight GC_Content\n",
       "0          Ursus spelaeus  550.800              NaN        NaN\n",
       "1            Ursus arctos  203.500              NaN        NaN\n",
       "2        Ursus thibetanus   99.714              NaN        NaN\n",
       "3        Melursus ursinus  100.030              NaN        NaN\n",
       "4        Ursus americanus  110.560              NaN        NaN\n",
       "5     Helarctos malayanus   47.020              NaN        NaN\n",
       "6  Ailuropoda melanoleuca  118.200              NaN        NaN\n",
       "7      Tremarctos ornatus  140.700              NaN        NaN\n",
       "8         Ursus maritimus  425.100              NaN        NaN"
      ]
     },
     "execution_count": 182,
     "metadata": {},
     "output_type": "execute_result"
    }
   ],
   "source": [
    "bears_df"
   ]
  },
  {
   "cell_type": "code",
   "execution_count": 183,
   "metadata": {},
   "outputs": [],
   "source": [
    "species_list = list(bears_df.species)"
   ]
  },
  {
   "cell_type": "code",
   "execution_count": 191,
   "metadata": {},
   "outputs": [
    {
     "name": "stdout",
     "output_type": "stream",
     "text": [
      "                  species     mass Molecular_Weight GC_Content\n",
      "0          Ursus spelaeus  550.800          42458.8   0.437719\n",
      "1            Ursus arctos  203.500          42414.7   0.437719\n",
      "2        Ursus thibetanus   99.714          42306.7    0.45614\n",
      "3        Melursus ursinus  100.030            42552   0.451754\n",
      "4        Ursus americanus  110.560          42427.7   0.439474\n",
      "5     Helarctos malayanus   47.020          42560.9   0.442982\n",
      "6  Ailuropoda melanoleuca  118.200          42702.2   0.407895\n",
      "7      Tremarctos ornatus  140.700          42384.8    0.44386\n",
      "8         Ursus maritimus  425.100          42454.8   0.442982\n"
     ]
    }
   ],
   "source": [
    "for key, value in cytb_seqs.items():\n",
    "    aa_seq = alt_translator(value)\n",
    "    bears_df.loc[bears_df.species == key, 'Molecular_Weight'] = compute_molecular_weight(aa_seq)\n",
    "    bears_df.loc[bears_df.species == key, 'GC_Content'] = gc_content(value)\n",
    "print(bears_df)"
   ]
  },
  {
   "cell_type": "code",
   "execution_count": 192,
   "metadata": {},
   "outputs": [],
   "source": [
    "## 8 ##\n",
    "## Plot a bar-chart of the mass with the x-axes labeled with species names.\n",
    "## *Q1* What is the largest bear species? \n",
    "## *Q2* What else is interesting about this species?\n",
    "\n",
    "## 9 ##\n",
    "## Plot a visualization of the molecular weight (y-axis) as a function of GC-content (x-axis).\n",
    "\n",
    "## 10 ##\n",
    "## Save the new DataFrame to a file called \"bears_mass_cytb.csv\"\n",
    "\n",
    "## 11 - BONUS ##\n",
    "## What else can we do with this dataset in Python? \n",
    "## Add functions or anything that might be interesting and fun. (optional)\n"
   ]
  },
  {
   "cell_type": "code",
   "execution_count": 193,
   "metadata": {},
   "outputs": [],
   "source": [
    "species_mass = bears_df.set_index('species').mass"
   ]
  },
  {
   "cell_type": "code",
   "execution_count": 194,
   "metadata": {},
   "outputs": [
    {
     "data": {
      "text/plain": [
       "Text(0.5,0,'Species')"
      ]
     },
     "execution_count": 194,
     "metadata": {},
     "output_type": "execute_result"
    },
    {
     "data": {
      "image/png": "[encoded data removed]",
      "text/plain": [
       "<Figure size 432x288 with 1 Axes>"
      ]
     },
     "metadata": {
      "needs_background": "light"
     },
     "output_type": "display_data"
    }
   ],
   "source": [
    "mass_plot = species_mass.plot(kind='bar',title='Species Mass', color='brown')\n",
    "mass_plot.set_ylabel(\"Mass\")\n",
    "mass_plot.set_xlabel(\"Species\")\n",
    "# Largest species is Ursus spelaeus"
   ]
  },
  {
   "cell_type": "code",
   "execution_count": 232,
   "metadata": {},
   "outputs": [
    {
     "data": {
      "text/plain": [
       "<seaborn.axisgrid.FacetGrid at 0x1a49463dfd0>"
      ]
     },
     "execution_count": 232,
     "metadata": {},
     "output_type": "execute_result"
    },
    {
     "data": {
      "image/png": "[encoded data removed]",
      "text/plain": [
       "<Figure size 697.125x432 with 1 Axes>"
      ]
     },
     "metadata": {
      "needs_background": "light"
     },
     "output_type": "display_data"
    }
   ],
   "source": [
    "mw_gc = sns.lmplot('GC_Content', 'Molecular_Weight', data=bears_df, fit_reg=False, height=6, aspect=1.25, scatter_kws={\"s\": 100}, hue='species')\n",
    "mw_gc.set_axis_labels('GC Content of Coding Sequence', 'Molecular Weight of Peptide')"
   ]
  },
  {
   "cell_type": "code",
   "execution_count": 216,
   "metadata": {},
   "outputs": [],
   "source": [
    "bears_df.to_csv('bears_mass_cytb.csv',index_label=False)"
   ]
  },
  {
   "cell_type": "code",
   "execution_count": 250,
   "metadata": {},
   "outputs": [
    {
     "name": "stdout",
     "output_type": "stream",
     "text": [
      "[23, 59, 62, 110, 116, 119, 134, 155, 164, 185, 195, 203, 227, 243, 254, 266, 278, 305, 360, 368, 383, 392, 428, 437, 443, 479, 497, 518, 539, 551, 567, 587, 596, 659, 662, 683, 698, 707, 713, 714, 720, 722, 740, 761, 769, 779, 785, 788, 847, 848, 857, 884, 905, 906, 912, 926, 956, 974, 980, 1055, 1084, 1136]\n"
     ]
    }
   ],
   "source": [
    "import numpy as np\n",
    "from scipy import stats\n",
    "a = np.array([[1, 3, 4, 2, 2, 7],\n",
    "              [5, 2, 2, 1, 4, 1],\n",
    "              [3, 3, 2, 2, 1, 1]])\n",
    "\n",
    "mut_site = []\n",
    "for i in range(len(cytb_seqs[species_list[0]])):\n",
    "    for j in range(9):\n",
    "        count = 0\n",
    "        seq_j = cytb_seqs[species_list[j]]\n",
    "        if cytb_seqs[species_list[0]][i] != seq_j[i]:\n",
    "            count += 1\n",
    "    if count > 0:\n",
    "        mut_site.append(i) \n",
    "print(mut_site)"
   ]
  },
  {
   "cell_type": "code",
   "execution_count": 323,
   "metadata": {},
   "outputs": [],
   "source": [
    "nucdic = {'A':1, 'C':2, 'G':3, 'T':4}\n",
    "a = []\n",
    "for i in range(9):\n",
    "    numseq = []\n",
    "    for n in range(len(cytb_seqs[species_list[i]])):\n",
    "        numseq.insert(n, nucdic.get(cytb_seqs[species_list[i]][n]))\n",
    "    a.insert(i, numseq)"
   ]
  },
  {
   "cell_type": "code",
   "execution_count": 371,
   "metadata": {},
   "outputs": [
    {
     "name": "stdout",
     "output_type": "stream",
     "text": [
      "[['ATGACCAACATCCGAAAAACCCATCCATTAGCTAAAATCATCAACAACTCATTTATTGACCTCCCAACACCATCAAACATCTCAGCATGATGAAACTTTGGATCCCTCCTCGGAGTATGCTTAATTCTACAGATCCTAACAGGCCTGTTTCTAGCTATACACTACACATCAGACACAACCACAGCCTTTTCATCAATCACCCATATTTGCCGAGACGTTCACTACGGTTGAGTTATCCGATATATACATGCAAACGGAGCCTCCATATTCTTTATCTGTCTATTCATGCACGTAGGACGGGGCCTATACTATGGCTCATACCTATTCTCAGAAACATGAAACATTGGCATTATTCTCCTACTTACAGTCATAGCCACCGCATTCATAGGATATGTCCTACCCTGAGGCCAAATGTCCTTCTGAGGAGCAACTGTCATTACCAACCTACTATCGGCCATTCCCTATATCGGAACGGACCTAGTAGAATGAATCTGAGGAGGCTTTTCCGTAGATAAGGCAACTCTAACACGATTCTTTGCCTTCCACTTTATCCTCCCGTTCATCATCTTAGCACTAGCAGCAGTCCATCTATTGTTTCTACACGAAACAGGATCCAACAACCCCTCTGGAATCCCATCTGACTCAGACAAAATCCCATTTCACCCATACTATACAATTAAGGACATTCTAGGCGCCCTGCTTCTCACTCTAGCTTTAGCAGCTCTAGTCCTATTCTCGCCTGACTTACTAGGAGACCCTGACAACTATACCCCCGCAAACCCACTGAGTACCCCACCCCACATCAAACCCGAGTGGTACTTTCTATTTGCCTACGCTATCCTACGATTTATCCCTAACAAACTAGGAGGAGTACTAGCACTAATCTTCTCCATTCTAATCCTAGCTATCATTTCTCTTCTACACACATCCAAACAACGAGGAATGATATTCCGGCCTCTAAGCCAATGCCTATTCTGACTCCTAGTAGCAGACCTACTAACACTAACATGAATTGGAGGACAACCAGTAGAACACCCCTTCATTATTATCGGACAGCTAGCCTCCATTCTCTACTTTACAATCCCCCTAGTACTCATACCCATCGCTGGAATTATTGAAAACAACCTCTTAAAGTGAAGA'], ['ATGACCAACATCCGAAAAACCCACCCATTAGCTAAAATCATCAACAACTCACTTATTGACCTTCCAACACCATCAAACATCTCAGCATGATGAAACTTTGGATCCCTCCTTGGAGTATGTTTAATTCTACAGATTCTAACAGGCCTGTTCCTAGCCATACACTATACACCAGACACAACCACAGCTTTTTCATCGGTCACCCACATTTGCCGAGACGTCCACTACGGATGAGTTATCCGATATGTACATGCAAATGGAGCCTCCATCTTCTTTATCTGCCTATTTATGCACGTAGGACGGGGCCTGTACTATGGCTCATACCTATTCTCAGAAACATGAAACATTGGCATTATTCTCCTATTTACAATTATAGCCACCGCATTTATAGGATACGTCCTACCCTGGGGCCAAATGTCCTTCTGAGGAGCGACTGTCATCACCAATCTACTATCGGCCATTCCCTACATCGGAACGGACCTGGTAGAATGAATCTGAGGGGGCTTTTCCGTAGATAAAGCGACCCTAACACGATTCTTTGCTTTCCACTTTATTCTCCCGTTCATCATCCTAGCACTAGCAGCAGTCCATCTATTGTTCCTACACGAAACAGGATCTAACAACCCCTCTGGAATCCCATCTGACTCAGACAAAATCCCCTTCCATCCATACTATACAATTAAAGATATTCTAGGCGCCCTACTTCTCGCCCTAACCTTAGCAACCCTAGTCCTATTCTCGCCCGACTTACTAGGAGACCCTGATAACTATACCCCCGCAAATCCACTGAGCACTCCACCCCACATCAAACCCGAATGGTACTTTCTATTTGCCTACGCTATCCTACGATCTATCCCTAATAAACTAGGAGGAGTACTAGCACTAATTTTCTCCATTCTAATCCTAGCCATCATTCCTCTTCTACACACGTCCAAACAACGAGGAATGATATTCCGACCCCTAAGCCAATGCCTATTTTGACTTCTAGTAGCAGACCTACTAACACTAACATGAATTGGAGGACAACCAGTAGAACATCCCTTCATTATTATCGGACAACTAGCCTCCATTCTCTACTTTACAATCCTCCTAGTACTTATACCTATCGCTGGAATTATTGAAAATAACCTCTTAAAGTGGAGA'], ['ATGACCAACATCCGAAAAACCCATCCATTAGCCAAAATCATCAACAACTCACTCATTGATCTCCCAGCACCATCAAATATCTCAGCATGATGAAACTTTGGATCCCTCCTCGGAATATGCCTAATCCTACAGATTCTGACAGGCCTATTTCTAGCTATACACTACACATCAGACGCGACTACAGCCTTTTCATCAGTCGCCCATATTTGCCGAGACGTCCATTACGGATGAATTATCCGATACATACATGCAAACGGAGCCTCCATGTTCTTCATCTGCCTATTCATACACGTAGGACGGGGCTTGTATTATGGCTCATACCTACTCTCAGAAACATGAAACATTGGCATCATCCTCCTATTTACAGTTATAGCCACCGCATTCATAGGATATGTCCTACCCTGAGGCCAAATATCTTTCTGAGGAGCGACTGTCATTACCAACCTCCTATCAGCCATTCCCTATATTGGAACGGACCTAGTAGAGTGAATCTGAGGGGGCTTTTCCGTAGATAAAGCAACCCTAACACGATTCTTTGCTTTCCACTTTATCCTTCCATTTATCATCCTAGCACTAGCAGCAGTTCATCTATTGTTCCTACACGAAACAGGATCCAACAACCCCTCTGGAATCCCATCCGACTCGGACAAAATCCCATTCCACCCATACTATACAATTAAGGACGCCCTAGGCGCCCTACTTCTCATTCTAGCCCTAGCAACTCTAGTTCTATTCTCGCCCGACTTACTGGGAGACCCTGACAACTATACCCCCGCAAACCCACTGAGCACCCCGCCCCACATCAAGCCTGAGTGATACTTTTTATTTGCTTACGCCATCTTACGATCCATCCCCAACAAACTAGGAGGAGTACTAGCGCTAATCTTCTCTATCCTAATCCTAGCCATTATCCCCCTTCTACACACATCCAAACAACGAGGAATAATGTTCCGACCCCTAAGCCAATGCCTATTTTGACTCCTAGTAGCAGACCTACTAACACTAACATGAATCGGAGGACAACCAGTAGAACATCCCTTCATCATTATCGGACAGCTAGCCTCCATCCTCTACTTCACAATCCTCCTGGTGCTCATGCCCATCGCTGGAATCATTGAAAACAACCTCTCAAAATGAAGA'], ['ATGACCAACATCCGAAAAACCCACCCATTAGCTAAAATCATTAACAACTCACTCATTGACCTCCCAGCACCGTCAAACATCTCAGCATGATGAAACTTCGGATCCCTCCTCGGAGTGTGCTTAATTCTACAAATTCTAACAGGCCTATTTCTAGCCATGCACTATACATCAGACACAACCACAGCCTTTTCATCAGTCACCCATATCTGTCGAGACGTCCACTACGGATGAATCATCCGATATATACATGCAAACGGGGCCTCCATATTCTTTATCTGCCTATTCATGCACGTAGGACGGGGTCTGTACTATGGCTCATACCTATTCTCGGAGACATGAAACACCGGCATTATTCTCCTATTTACAGTCATAGCCACCGCATTCATAGGATACGTCCTACCCTGAGGCCAAATGTCCTTCTGAGGAGCAACTGTCATCACCAATCTGCTATCGGCCATTCCCTATATTGGAGCGGACCTAGTAGAATGAATCTGAGGGGGGTTTTCCGTAGACAAGGCGACTCTAACACGATTCTTTGCCTTCCACTTTATCTTTCCATTTATCATCCTAGCACTGGTAATAGTCCACCTATTGTTCCTACATGAAACAGGATCTAACAACCCCTCTGGAATCCCATCCAACTCAGACAAAATCCCATTTCACCCATATTATACAATTAAAGATATTATAGGCGCCTTACTTCTCATCCTAGCCCTGGCAACCCTAGTCCTATTCTCACCCGACTTACTAGGAGACCCCGACAACTACACCCCTGCAAACCCACTGAGCACCCCACCCCACATCAAACCCGAGTGGTACTTTCTATTTGCCTACGCTATCCTACGATCCATCCCCAATAAACTAGGAGGGGTACTAGCACTAATTTTCTCCATCCTAATCCTAGCTATCATTCCCCTTCTACACACATCCAAACAACGAGGAATGATATTCCGGCCCCTAAGCCAATGCCTATTTTGACTCCTAGTAGCAGACCTACTAACACTTACATGAATCGGAGGACAACCAGTAGAATATCCCTTCATCACTATTGGACAACTAGCCTCCATCCTCTACTTCATAATCCTCCTAGTACTCATGCCCATCGCCGGAATCATTGAAAATAATCTCTCAAAGTGAAGA'], ['ATGACCAACATCCGAAAAACCCACCCATTAGCTAAAATCATCAACAACTCACTTATTGATCTCCCAACACCATCAAATATCTCAGCATGATGAAACTTCGGATCCCTCCTCGGAGTATGTTTAGTACTACAAATTCTAACGGGCCTATTTCTAGCCATACACTACACATCAGATACAACTACAGCCTTTTCATCAATCACCCATATTTGCCGAGATGTTCACTACGGATGAATTATCCGATACATACATGCTAACGGAGCTTCCATGTTCTTTATCTGTCTGTTCATGCACGTAGGACGGGGTCTGTACTATGGCTCATACCTACTCTCAGAAACATGAAACATTGGCATTATCCTCCTATTTACAGTTATAGCCACCGCATTCATAGGATATGTCCTGCCCTGAGGCCAAATATCCTTCTGAGGAGCAACTGTTATCACCAACCTCCTATCAGCCATCCCCTATATTGGAACAGACCTAGTAGAATGGATCTGAGGGGGCTTTTCTGTGAATAAGGCAACTCTGACACGATTCTTTGCCTTCCACTTTATTCTTCCATTCATCATCTTGACACTAGCAGCAGTCCACCTATTATTCCTACACGAAACAGGATCTAATAACCCCTCTGGAATCCCATCTGACTCAGACAAAATCCCATTTCATCCATATTATACAATTAAAGACGCCCTAGGCGCCCTACTTTTCATCCTAGCCCTAGCAACTCTAGTCCTATTCTCGCCTGACCTACTAGGAGATCCCGATAACTACACCCCCGCAAACCCACTGAGCACCCCACCCCACATCAAACCTGAATGATATTTTCTATTTGCCTACGCTATTCTACGGTCCATCCCCAACAAACTAGGAGGAGTGCTAGCACTAATTTTCTCTATCCTAATCCTAGCTATTATCCCCCTTCTACACACATCCAAGCAACGAGGAATAATGTTCCGACCCCTAAGCCAATGCCTATTCTGACTTCTAGTAGCAGACCTACTAACACTAACATGAATCGGAGGGCAACCAGTAGAACACCCCTTTATCATTATCGGCCAGTTGGCCTCTATCCTCTACTTCACAATCCTCCTAGTGCTCATGCCTATCGCTGGGATCATTGAAAATAACCTCTCAAAATGAAGA'], ['ATGACCAACATCCGAAAAACCCACCCATTAGCTAAAATCATTAACAACTCACTTATTGACCTCCCAGCACCATCAAACATCTCGGCGTGATGAAACTTCGGATCCCTCCTCGGAGTATGCTTAATCCTACAGATTATGACAGGCCTATTTCTAGCCATACACTATACATCAGACACAACCACAGCCTTTTCATCAATCACTCATATCTGCCGAGACGTTCACTACGGATGAATTATCCGATATATACATGCAAACGGAGCCTCCATGTTCTTTATCTGCCTATTCATGCACGTAGGACGGGGTCTGTACTATGGCTCGTACCTATTCTCAGAAACATGAAACATCGGTATTATCCTCCTATTTACAGTTATAGCCACCGCATTTATAGGATACGTCCTACCCTGAGGCCAAATGTCCTTCTGAGGAGCAACTGTCATTACCAATCTCTTATCAGCCATCCCCTATATTGGAACGGACCTAGTAGAATGAGTCTGAGGAGGCTTTTCCGTAGACAAGGCGACTCTAACACGATTCTTTGCCTTCCACTTTATCCTTCCGTTCATCATCTTGGCACTAACAGCGGTCCACCTATTATTCCTACACGAAACAGGGTCCAACAATCCCTCTGGAATCCCATCTGACTCAGACAAAATCCCATTTCACCCGTACTATACAATTAAGGACATCCTAGGCGCCCTACTTCTTACCCTAGCCCTAACAACCCTAGTTCTATTCTCGCCCGACTTACTAGGAGACCCTGACAACTACATCCCCGCAAATCCATTGAGCACCCCACCCCACATCAAACCCGAATGGTACTTTCTATTTGCCTACGCTATCCTACGATCCATCCCTAATAAACTAGGAGGAGTACTAGCTCTAGTCTTCTCTATCCTAATCCTAGCCATTATCCCCCTCTTACACACATCCAAGCAACGAGGAATGATATTCCGACCTCTGAGCCAATGCCTATTTTGACTCCTAGTAGCAGACCTACTAACACTAACATGAATTGGAGGACAACCAGTAGAACATCCCTTTACCATTATCGGACAACTAGCCTCCATTCTCTATTTCATAATCTTCCTAGTATTCATACCCATCGCTGGAATTATTGAAAATAACCTCTCAAAATGAAGA'], ['ATGATCAACATCCGAAAAACTCATCCATTAGTTAAAATTATCAACAACTCATTCATTGACCTTCCAACACCATCAAACATTTCAACATGATGGAACTTTGGGTCCCTGTTAGGAGTGTGTCTGATCTTGCAAATCTTAACAGGCTTATTTCTAGCCATACACTATACATCAGATACAGCTACAGCCTTTTCATCAGTCGCACACATTTGTCGAGACGTCAACTATGGGTGATTTATCCGATATATACATGCCAATGGGGCCTCTATATTTTTTATCTGCCTATTTATACACGTAGGGCGAGGCTTATACTATGGATCATACCTATTTCCAGAGACATGGAATATCGGAATTATTCTCCTACTTACAATTATAGCCACCGCATTTATAGGATACGTCCTACCCTGAGGCCAAATGTCCTTCTGAGGAGCGACTGTCATCACCAACCTACTATCGGCCATTCCCTACATCGGAACGAACCTAGTAGAATGAATCTGAGGGGGCTTTTCCGTAGATAAGGCGACCCTAACACGATTCTTTGCTTTCCACTTTATCCTTCCATTTATCATCTCAGCACTAGCAATAGTCCATCTATTATTCCTTCACGAAACAGGATCTAATAACCCCTCCGGAATTCCATCTGACCCAGACAAAATCCCATTTTACCCCTATCATACAATTAAAGACATCCTAGGCGTCCTATTTCTTGTCCTCGCCTTAATAACCCTGGCTTTATTCTCACCAGACCTGTTAGGAGACCCTGATAACTATACCCCTGCAAATCCACTAAGTACCCCGCCACATATTAAGCCTGAATGGTACTTTCTATTTGCCTACGCTATCCTGCGATCCATTCCTAATAAACTAGGAGGGGTGCTAGCTCTAATCTTCTCTATTCTAATTCTAACTATTATTCCACTATTACATACATCCAAACAACGAAGCATGATATTCCGACCTCTAAGTCAATGCTTATTCTGACTCCTAGTAGCAGACCTACTCACACTAACATGAATTGGAGGACAGCCAGTAGAACACCCCTTCATTATTATTGGGCAATTGGCCTCTATTCTCTACTTTACAATTCTTCTAGTACTTATACCTATCACTAGCATTATTGAGAATAGCCTCTCAAAATGAAGA'], ['ATGACCAACATCCGAAAAACTCACCCACTAGCTAAAATCATCAACAGCTCATTCATTGACCTCCCAACACCATCAAATATCTCAGCGTGATGAAACTTCGGGTCCCTTCTTGGGGTGTGCCTGATCCTACACATCCTAACGGGCCTATTCCTGGCCATACACTATACAGCAGACACGACTACAGCCTTCTCATCAGTCGCCCATATCTGTCGAGACGTTAACTACGGATGAGTTATCCGATACATACACGCGAACGGAGCTTCAATATTCTTTATCTGCTTGTTCATACACGTGGGACGGGGTCTGTATTACGGCTCATACCTATTCTCAGAAACATGAAACATTGGAATTATTCTCCTACTCACAATTATAGCCACAGCATTCATGGGGTACGTGCTGCCCTGAGGCCAAATATCCTTTTGAGGAGCAACCGTCATCACCAATCTGCTATCAGCTATCCCCTACATTGGAACCGACCTAGTAGAATGAATCTGAGGTGGATTCTCAGTAGATAAAGCAACCCTTACCCGATTTTTCGCTTTTCACTTTATCCTTCCATTCATTATTTTAGCACTAGCCATAGTCCACCTATTATTTCTTCACGAAACAGGATCCAACAATCCCTCTGGAATCTCATCGAACTCAGACAAAATCCCATTTCACCCTTACTATACAATTAAAGATATTCTAGGCGTCTTACTTCTTCTCCTAGCCCTGGTAACCCTAGTCCTATTCTCACCCGACTTACTAGGAGACCCCGACAACTACACCCCTGCAAACCCAGTGAGCACCCCACTACATATCAAGCCTGAATGGTACTTCTTATTTGCCTACGCCATTCTACGATCTATTCCCAATAAATTGGGAGGAGTACTGGCCCTAATCTTCTCCATTCTAATCCTAGCTATCATTCCTCTGCTGCACACATCCAAACAACGAGGAATGATATTCCGACCTTTAAGCCAATGCCTTTTCTGGCTTCTAGCAGCAGACTTACTAACACTAACATGAATCGGAGGACAACCAGTGGAACATCCTCTTGTTATCATCGGACAGCTAGCCTCTATCCTCTACTTCACAATCCTCCTAGTACTTATACCCATCGCCGGAATCATTGAAAATAACCTCTCAAAGTGAAGA'], ['ATGACCAACATCCGAAAAACCCACCCATTAGCTAAAATCATCAACAACTCATTTATTGATCTTCCAACACCATCAAACATCTCAGCATGATGAAACTTTGGATCCCTCCTTGGAGTGTGTTTAATTCTACAGATTCTAACAGGCCTGTTTCTAGCCATACACTATACATCAGACACAACCACAGCTTTTTCATCAGTCACCCACATTTGCCGAGACGTTCACTACGGGTGAGTTATCCGATATGTACATGCAAATGGAGCCTCCATGTTCTTTATCTGCCTATTCATGCACGTAGGACGGGGCCTGTACTATGGCTCATACCTATTCTCAGAAACATGAAACATTGGCATTATTCTCCTATTTACAGTTATAGCCACCGCATTTATAGGATACGTCCTACCCTGAGGCCAAATGTCCTTCTGAGGAGCGACTGTCATCACCAATCTACTATCGGCCATTCCCTATATCGGAACGGACCTGGTAGAATGAATCTGAGGGGGCTTTTCCGTAGATAAGGCGACTCTAACACGATTCTTTGCTTTCCACTTTATTCTCCCGTTCATCATCCTAGCACTAGCAGCAGTCCACCTATTGTTCCTACACGAAACAGGATCCAACAACCCCTCTGGAATCCCATCTGACTCAGACAAAATCCCATTCCATCCATACTATACAATTAAGGATATTCTAGGCGCCCTACTTCTCACCCTAGCCCTAGCAACCCTAGTCCTATTCTCGCCCGACTTACTAGGAGACCCTGATAACTATATCCCCGCAAATCCACTAAGCACCCCACCCCACATCAAACCCGAGTGGTACTTTCTATTTGCCTACGCTATCCTACGATCCATCCCTAATAAACTAGGAGGAGTACTAGCACTAATTTTCTCCATTCTAATCCTAGCCCTCATTCCTCTTCTACACACGTCCAAACAACGAGGAATGATATTCCGGCCCCTAAGCCAATGCCTATTTTGACTTCTAGTAGCAGACCTACTAACACTAACATGAATTGGAGGACAACCAGTAGAACACCCCTTCATTATTATCGGACAACTAGCCTCCATTCTCTACTTTACAATCCTCCTAGTACTCATACCCATCGCTGGAATTATTGAAAACAACCTCTTAAAGTGGAGA']]\n"
     ]
    }
   ],
   "source": [
    "b = []\n",
    "for i in range(9):\n",
    "    b.insert(i, [str(cytb_seqs[species_list[i]])])\n",
    "print(b)"
   ]
  },
  {
   "cell_type": "code",
   "execution_count": 324,
   "metadata": {},
   "outputs": [
    {
     "data": {
      "text/plain": [
       "array([[1, 4, 3, ..., 1, 3, 1],\n",
       "       [1, 4, 3, ..., 1, 3, 1],\n",
       "       [1, 4, 3, ..., 1, 3, 1],\n",
       "       ...,\n",
       "       [1, 4, 3, ..., 1, 3, 1],\n",
       "       [1, 4, 3, ..., 1, 3, 1],\n",
       "       [1, 4, 3, ..., 1, 3, 1]])"
      ]
     },
     "execution_count": 324,
     "metadata": {},
     "output_type": "execute_result"
    }
   ],
   "source": [
    "np.asarray(a)"
   ]
  },
  {
   "cell_type": "code",
   "execution_count": 355,
   "metadata": {},
   "outputs": [
    {
     "data": {
      "text/plain": [
       "9"
      ]
     },
     "execution_count": 355,
     "metadata": {},
     "output_type": "execute_result"
    }
   ],
   "source": [
    "m.count[0,1]"
   ]
  },
  {
   "cell_type": "code",
   "execution_count": 599,
   "metadata": {},
   "outputs": [
    {
     "name": "stdout",
     "output_type": "stream",
     "text": [
      "[4, 20, 23, 27, 31, 32, 38, 41, 46, 51, 53, 59, 62, 66, 71, 77, 80, 83, 84, 86, 92, 98, 101, 107, 108, 110, 113, 114, 116, 119, 120, 122, 123, 125, 126, 128, 131, 134, 135, 137, 140, 144, 146, 149, 152, 155, 158, 164, 168, 173, 174, 176, 177, 179, 185, 188, 194, 195, 198, 200, 203, 206, 209, 215, 218, 219, 221, 224, 227, 231, 233, 242, 243, 248, 251, 254, 257, 260, 263, 266, 269, 272, 278, 279, 281, 284, 287, 293, 296, 299, 302, 303, 305, 308, 311, 314, 317, 324, 326, 327, 329, 332, 338, 341, 343, 344, 347, 350, 353, 360, 362, 366, 368, 377, 383, 386, 389, 392, 395, 398, 404, 413, 416, 419, 428, 431, 434, 437, 443, 446, 447, 452, 455, 458, 464, 467, 471, 473, 474, 479, 485, 488, 489, 497, 500, 503, 506, 509, 510, 512, 515, 518, 521, 524, 527, 533, 536, 539, 542, 551, 552, 554, 557, 560, 563, 566, 567, 568, 569, 570, 575, 576, 577, 578, 579, 580, 581, 584, 587, 593, 596, 599, 602, 611, 614, 617, 620, 626, 632, 633, 638, 639, 642, 644, 656, 659, 660, 662, 665, 668, 669, 680, 683, 684, 685, 686, 687, 694, 696, 698, 699, 702, 704, 705, 706, 707, 710, 711, 713, 714, 716, 717, 718, 720, 722, 725, 727, 728, 729, 737, 740, 744, 746, 747, 749, 755, 758, 761, 767, 769, 773, 779, 783, 785, 788, 791, 794, 796, 797, 800, 803, 806, 809, 812, 815, 818, 821, 822, 830, 836, 839, 840, 842, 845, 847, 848, 851, 854, 857, 861, 863, 869, 872, 875, 878, 882, 884, 890, 893, 899, 903, 905, 906, 908, 911, 912, 914, 917, 918, 920, 923, 926, 932, 939, 941, 944, 947, 953, 956, 957, 959, 962, 969, 971, 974, 977, 980, 985, 993, 998, 1004, 1013, 1019, 1022, 1028, 1032, 1034, 1037, 1038, 1040, 1041, 1042, 1043, 1045, 1046, 1049, 1052, 1055, 1056, 1058, 1064, 1067, 1073, 1076, 1078, 1082, 1083, 1084, 1085, 1088, 1091, 1092, 1094, 1097, 1100, 1104, 1106, 1107, 1109, 1112, 1118, 1121, 1123, 1124, 1129, 1133, 1136]\n"
     ]
    }
   ],
   "source": [
    "from scipy import stats\n",
    "m = stats.mode(a)\n",
    "snp_index = []\n",
    "snp_mode = []\n",
    "snp_norm = []\n",
    "for i in range(len(cytb_seqs[species_list[0]])):\n",
    "    if m.count[0,i] != 9:\n",
    "        snp_index.append(i)\n",
    "print(snp_index)        "
   ]
  },
  {
   "cell_type": "code",
   "execution_count": 600,
   "metadata": {},
   "outputs": [
    {
     "name": "stdout",
     "output_type": "stream",
     "text": [
      "[2, 2, 2, 4, 2, 4, 2, 2, 1, 2, 4, 2, 2, 1, 1, 2, 2, 1, 3, 1, 1, 4, 1, 2, 2, 2, 1, 3, 1, 2, 4, 1, 1, '--', 2, 1, 3, 4, 2, 1, 1, 2, 1, 4, 1, 2, 1, 4, 4, 2, 1, 1, 1, 2, 2, 4, 1, 3, 1, 2, 4, 4, 2, 2, 4, 2, 2, 2, 1, '--', 4, 4, 1, 4, 1, 2, 1, 2, 2, '--', 2, 4, 2, 2, 1, 2, 3, 1, 1, 3, 2, 2, 3, 2, 4, 2, 1, 4, 2, 4, 1, 1, 1, 2, 4, 4, 2, 4, 4, 4, 4, 3, 4, 2, 2, 1, 1, 2, 2, 1, 1, 3, 2, 2, 1, 4, 2, 2, 4, '--', 2, 3, 2, 4, 4, 4, 1, 3, 3, 1, 1, 1, 1, 3, 2, 4, 2, 1, 3, 4, 3, 3, 4, 1, 1, 2, 4, 4, 2, 2, 2, 4, 1, 2, 2, 2, 4, 4, 1, 3, 1, 3, 2, 1, 3, 2, 1, 2, 2, 3, 2, 1, 2, 1, 2, 2, 2, 4, 2, 2, 4, 3, 4, 1, 1, 4, 2, 2, 1, 2, 4, 1, 2, 1, 4, 4, 2, 2, 2, 1, 2, 2, 2, 1, 4, 2, 1, 3, 2, 2, 1, 3, 2, 1, 2, 1, 4, 2, 2, 3, 2, 4, 1, 2, 1, 2, 4, 2, 4, 2, 2, 2, 2, 3, 2, 2, 1, 2, 2, 2, 2, 1, 2, 1, 3, 2, 4, 2, 2, 4, 2, 2, 1, 1, 2, 2, 2, 4, 4, 2, 1, 1, 1, 1, 1, 1, 2, 2, 4, 2, 3, 4, 1, 2, 4, 2, '--', 4, 2, 1, 2, 1, 1, 3, 1, 3, 1, 1, 2, 2, 1, 2, 2, 1, 4, 1, 2, 4, 2, 1, 1, 4, 1, 1, 1, 2, 4, 2, 4, 2, 1, 4, 4, 4, 4, 2, 1, 1, 2, 1, 2, 4, 2, 2, 2, 2, 2, 4, 2, 1, 1, 2, 2, 1, 2, 3, 4, 3, 1, 4, 1, 4, 1, 2, 2, 3, 1]\n"
     ]
    }
   ],
   "source": [
    "for i in snp_index:\n",
    "    if m.count[0,i] < 5:\n",
    "        snp_mode.append('--')\n",
    "    else:\n",
    "        snp_mode.append(m.mode[0,i])\n",
    "print(snp_mode)"
   ]
  },
  {
   "cell_type": "code",
   "execution_count": 601,
   "metadata": {},
   "outputs": [],
   "source": [
    "snp_norm = [m.mode[0,i] for i in snp_index]"
   ]
  },
  {
   "cell_type": "code",
   "execution_count": 602,
   "metadata": {},
   "outputs": [
    {
     "name": "stdout",
     "output_type": "stream",
     "text": [
      "[125, 231, 266, 446, 914]\n"
     ]
    }
   ],
   "source": [
    "danger_mode = []\n",
    "for i in range(len(cytb_seqs[species_list[0]])):\n",
    "    if m.count[0,i] < 5:\n",
    "        danger_mode.append(i)\n",
    "print(danger_mode)"
   ]
  },
  {
   "cell_type": "code",
   "execution_count": 604,
   "metadata": {},
   "outputs": [
    {
     "data": {
      "text/html": [
       "<div>\n",
       "<style scoped>\n",
       "    .dataframe tbody tr th:only-of-type {\n",
       "        vertical-align: middle;\n",
       "    }\n",
       "\n",
       "    .dataframe tbody tr th {\n",
       "        vertical-align: top;\n",
       "    }\n",
       "\n",
       "    .dataframe thead th {\n",
       "        text-align: right;\n",
       "    }\n",
       "</style>\n",
       "<table border=\"1\" class=\"dataframe\">\n",
       "  <thead>\n",
       "    <tr style=\"text-align: right;\">\n",
       "      <th></th>\n",
       "      <th>0</th>\n",
       "      <th>1</th>\n",
       "      <th>2</th>\n",
       "      <th>3</th>\n",
       "      <th>4</th>\n",
       "      <th>5</th>\n",
       "      <th>6</th>\n",
       "      <th>7</th>\n",
       "      <th>8</th>\n",
       "    </tr>\n",
       "  </thead>\n",
       "  <tbody>\n",
       "    <tr>\n",
       "      <th>0</th>\n",
       "      <td>T</td>\n",
       "      <td>T</td>\n",
       "      <td>C</td>\n",
       "      <td>T</td>\n",
       "      <td>A</td>\n",
       "      <td>C</td>\n",
       "      <td>C</td>\n",
       "      <td>C</td>\n",
       "      <td>T</td>\n",
       "    </tr>\n",
       "    <tr>\n",
       "      <th>1</th>\n",
       "      <td>G</td>\n",
       "      <td>G</td>\n",
       "      <td>A</td>\n",
       "      <td>A</td>\n",
       "      <td>A</td>\n",
       "      <td>A</td>\n",
       "      <td>T</td>\n",
       "      <td>G</td>\n",
       "      <td>G</td>\n",
       "    </tr>\n",
       "    <tr>\n",
       "      <th>2</th>\n",
       "      <td>A</td>\n",
       "      <td>C</td>\n",
       "      <td>G</td>\n",
       "      <td>A</td>\n",
       "      <td>G</td>\n",
       "      <td>G</td>\n",
       "      <td>A</td>\n",
       "      <td>A</td>\n",
       "      <td>G</td>\n",
       "    </tr>\n",
       "    <tr>\n",
       "      <th>3</th>\n",
       "      <td>A</td>\n",
       "      <td>A</td>\n",
       "      <td>C</td>\n",
       "      <td>G</td>\n",
       "      <td>C</td>\n",
       "      <td>C</td>\n",
       "      <td>A</td>\n",
       "      <td>G</td>\n",
       "      <td>A</td>\n",
       "    </tr>\n",
       "    <tr>\n",
       "      <th>4</th>\n",
       "      <td>T</td>\n",
       "      <td>T</td>\n",
       "      <td>C</td>\n",
       "      <td>C</td>\n",
       "      <td>C</td>\n",
       "      <td>C</td>\n",
       "      <td>A</td>\n",
       "      <td>T</td>\n",
       "      <td>T</td>\n",
       "    </tr>\n",
       "  </tbody>\n",
       "</table>\n",
       "</div>"
      ],
      "text/plain": [
       "   0  1  2  3  4  5  6  7  8\n",
       "0  T  T  C  T  A  C  C  C  T\n",
       "1  G  G  A  A  A  A  T  G  G\n",
       "2  A  C  G  A  G  G  A  A  G\n",
       "3  A  A  C  G  C  C  A  G  A\n",
       "4  T  T  C  C  C  C  A  T  T"
      ]
     },
     "execution_count": 604,
     "metadata": {},
     "output_type": "execute_result"
    }
   ],
   "source": [
    "dangers = []\n",
    "for i in range(5):\n",
    "    seq = []\n",
    "    for j in range(9):\n",
    "        seq.append(cytb_seqs[species_list[j]][danger_mode[i]])\n",
    "    dangers.append(seq)\n",
    "pd.DataFrame(dangers)"
   ]
  },
  {
   "cell_type": "code",
   "execution_count": 605,
   "metadata": {},
   "outputs": [
    {
     "name": "stdout",
     "output_type": "stream",
     "text": [
      "[['C', 'C', 'T', 'T', 'C', 'T', 'C', 'C', 'A', 'T', 'T', 'C', 'C', 'A', 'A', 'C', 'C', 'A', 'G', 'A', 'A', 'T', 'A', 'C', 'C', 'C', 'A', 'G', 'A', 'C', 'T', 'A', 'A', 'T', 'C', 'A', 'G', 'C', 'C', 'A', 'A', 'C', 'G', 'T', 'A', 'T', 'A', 'C', 'T', 'C', 'A', 'A', 'A', 'C', 'C', 'T', 'A', 'A', 'A', 'C', 'T', 'T', 'C', 'C', 'T', 'C', 'C', 'C', 'T', 'G', 'T', 'T', 'A', 'T', 'A', 'C', 'A', 'C', 'C', 'A', 'C', 'T', 'T', 'C', 'A', 'C', 'G', 'A', 'A', 'G', 'C', 'C', 'A', 'C', 'T', 'C', 'A', 'T', 'C', 'T', 'A', 'A', 'A', 'C', 'T', 'T', 'C', 'T', 'T', 'C', 'T', 'G', 'C', 'C', 'C', 'A', 'A', 'T', 'C', 'A', 'A', 'G', 'C', 'C', 'A', 'T', 'C', 'T', 'C', 'A', 'C', 'G', 'C', 'T', 'T', 'C', 'A', 'G', 'G', 'A', 'A', 'A', 'A', 'A', 'C', 'T', 'C', 'A', 'G', 'T', 'G', 'A', 'T', 'A', 'A', 'C', 'T', 'C', 'C', 'C', 'C', 'C', 'G', 'C', 'C', 'C', 'T', 'T', 'A', 'G', 'A', 'G', 'C', 'A', 'G', 'C', 'A', 'C', 'T', 'G', 'T', 'A', 'C', 'A', 'C', 'C', 'C', 'T', 'C', 'C', 'T', 'G', 'T', 'A', 'A', 'T', 'C', 'C', 'A', 'C', 'T', 'G', 'C', 'A', 'T', 'T', 'C', 'C', 'C', 'G', 'C', 'C', 'C', 'A', 'C', 'T', 'A', 'G', 'T', 'T', 'A', 'G', 'C', 'G', 'T', 'A', 'T', 'C', 'C', 'G', 'T', 'T', 'A', 'C', 'A', 'C', 'T', 'C', 'T', 'C', 'C', 'C', 'C', 'G', 'T', 'C', 'A', 'C', 'C', 'C', 'C', 'A', 'C', 'G', 'G', 'C', 'T', 'C', 'C', 'T', 'C', 'C', 'A', 'A', 'T', 'T', 'C', 'T', 'C', 'C', 'A', 'A', 'A', 'A', 'A', 'A', 'C', 'C', 'T', 'C', 'G', 'T', 'A', 'C', 'T', 'T', 'T', 'T', 'C', 'A', 'C', 'A', 'A', 'G', 'A', 'G', 'A', 'G', 'T', 'C', 'A', 'C', 'C', 'A', 'C', 'A', 'C', 'T', 'C', 'A', 'A', 'T', 'A', 'A', 'A', 'C', 'C', 'C', 'T', 'C', 'A', 'T', 'T', 'T', 'T', 'C', 'A', 'G', 'C', 'A', 'C', 'T', 'C', 'T', 'C', 'C', 'C', 'C', 'C', 'A', 'A', 'C', 'C', 'A', 'C', 'G', 'T', 'G', 'A', 'T', 'A', 'C', 'A', 'C', 'T', 'G', 'A'], ['C', 'C', 'C', 'T', 'C', 'T', 'C', 'C', 'A', 'C', 'T', 'C', 'T', 'A', 'A', 'C', 'C', 'A', 'G', 'A', 'A', 'T', 'A', 'C', 'C', 'T', 'A', 'G', 'A', 'T', 'T', 'A', 'A', 'T', 'C', 'A', 'G', 'T', 'C', 'A', 'A', 'C', 'G', 'C', 'A', 'C', 'A', 'T', 'C', 'C', 'A', 'A', 'A', 'C', 'T', 'T', 'G', 'G', 'A', 'C', 'C', 'T', 'C', 'C', 'C', 'C', 'C', 'C', 'A', 'G', 'T', 'T', 'G', 'T', 'A', 'T', 'A', 'C', 'C', 'C', 'C', 'T', 'C', 'C', 'A', 'T', 'G', 'A', 'A', 'G', 'C', 'C', 'G', 'C', 'T', 'C', 'A', 'T', 'C', 'T', 'A', 'A', 'A', 'C', 'T', 'T', 'C', 'T', 'T', 'T', 'T', 'A', 'T', 'C', 'T', 'A', 'A', 'C', 'C', 'A', 'G', 'G', 'C', 'C', 'G', 'T', 'C', 'C', 'T', 'A', 'C', 'G', 'C', 'T', 'C', 'C', 'A', 'G', 'G', 'G', 'A', 'A', 'A', 'G', 'C', 'T', 'C', 'A', 'G', 'T', 'A', 'G', 'C', 'A', 'A', 'C', 'T', 'T', 'C', 'T', 'C', 'C', 'G', 'C', 'C', 'C', 'C', 'T', 'A', 'G', 'A', 'G', 'C', 'A', 'G', 'C', 'A', 'C', 'T', 'G', 'C', 'A', 'C', 'A', 'T', 'C', 'C', 'T', 'C', 'C', 'T', 'G', 'T', 'A', 'C', 'C', 'C', 'T', 'A', 'C', 'T', 'A', 'T', 'A', 'T', 'T', 'C', 'C', 'C', 'A', 'C', 'C', 'C', 'G', 'C', 'C', 'A', 'A', 'C', 'T', 'A', 'G', 'C', 'A', 'C', 'A', 'T', 'C', 'C', 'G', 'C', 'T', 'A', 'C', 'A', 'C', 'T', 'T', 'T', 'C', 'C', 'T', 'C', 'G', 'C', 'T', 'A', 'C', 'C', 'C', 'C', 'A', 'C', 'A', 'G', 'C', 'T', 'C', 'C', 'T', 'C', 'C', 'A', 'A', 'C', 'T', 'C', 'T', 'T', 'C', 'A', 'A', 'A', 'A', 'A', 'A', 'T', 'C', 'T', 'C', 'G', 'C', 'A', 'C', 'T', 'C', 'T', 'T', 'C', 'A', 'C', 'G', 'A', 'G', 'A', 'G', 'A', 'A', 'C', 'C', 'A', 'C', 'C', 'A', 'T', 'A', 'T', 'T', 'C', 'A', 'A', 'T', 'A', 'A', 'A', 'C', 'T', 'C', 'T', 'C', 'A', 'T', 'T', 'T', 'T', 'C', 'A', 'A', 'C', 'A', 'C', 'T', 'C', 'T', 'C', 'C', 'C', 'T', 'C', 'A', 'A', 'C', 'T', 'A', 'T', 'G', 'T', 'G', 'A', 'T', 'A', 'T', 'A', 'C', 'T', 'G', 'G'], ['C', 'C', 'T', 'T', 'C', 'C', 'C', 'C', 'A', 'C', 'C', 'T', 'C', 'G', 'A', 'T', 'C', 'A', 'G', 'A', 'A', 'T', 'A', 'C', 'C', 'C', 'A', 'A', 'A', 'C', 'C', 'A', 'A', 'C', 'C', 'A', 'G', 'T', 'C', 'G', 'A', 'C', 'A', 'T', 'A', 'T', 'A', 'C', 'T', 'C', 'G', 'G', 'A', 'T', 'C', 'T', 'A', 'G', 'G', 'C', 'T', 'T', 'C', 'C', 'C', 'C', 'T', 'C', 'A', 'A', 'T', 'C', 'A', 'T', 'A', 'C', 'A', 'C', 'C', 'G', 'C', 'C', 'C', 'C', 'A', 'C', 'A', 'A', 'A', 'G', 'C', 'T', 'G', 'T', 'T', 'C', 'A', 'C', 'C', 'T', 'A', 'A', 'A', 'C', 'T', 'T', 'C', 'C', 'C', 'T', 'T', 'G', 'T', 'C', 'C', 'A', 'A', 'T', 'C', 'A', 'A', 'A', 'T', 'C', 'G', 'T', 'C', 'T', 'C', 'C', 'C', 'A', 'C', 'T', 'T', 'T', 'A', 'G', 'G', 'A', 'G', 'A', 'A', 'G', 'C', 'T', 'C', 'A', 'G', 'T', 'A', 'A', 'C', 'A', 'A', 'C', 'T', 'T', 'C', 'C', 'C', 'T', 'A', 'T', 'C', 'C', 'C', 'T', 'A', 'G', 'A', 'G', 'C', 'A', 'G', 'C', 'A', 'T', 'T', 'G', 'C', 'A', 'C', 'A', 'C', 'C', 'C', 'T', 'C', 'C', 'C', 'G', 'T', 'G', 'A', 'C', 'C', 'C', 'A', 'C', 'T', 'G', 'C', 'G', 'C', 'C', 'C', 'C', 'C', 'A', 'C', 'C', 'C', 'A', 'T', 'T', 'A', 'G', 'C', 'C', 'A', 'G', 'C', 'A', 'T', 'A', 'T', 'T', 'C', 'G', 'C', 'T', 'A', 'C', 'G', 'C', 'T', 'C', 'T', 'C', 'C', 'C', 'C', 'G', 'C', 'C', 'G', 'C', 'C', 'C', 'C', 'G', 'T', 'G', 'A', 'C', 'T', 'T', 'T', 'C', 'C', 'T', 'A', 'A', 'C', 'C', 'C', 'C', 'C', 'C', 'A', 'A', 'A', 'A', 'G', 'A', 'C', 'T', 'C', 'C', 'G', 'C', 'A', 'T', 'C', 'C', 'C', 'T', 'C', 'A', 'C', 'A', 'A', 'G', 'A', 'A', 'G', 'A', 'C', 'C', 'A', 'C', 'C', 'A', 'T', 'A', 'C', 'T', 'C', 'A', 'A', 'C', 'A', 'A', 'A', 'C', 'T', 'C', 'T', 'C', 'A', 'T', 'C', 'T', 'T', 'C', 'A', 'G', 'C', 'A', 'C', 'C', 'C', 'C', 'C', 'C', 'C', 'T', 'C', 'G', 'G', 'C', 'C', 'G', 'C', 'G', 'T', 'G', 'A', 'C', 'A', 'C', 'A', 'C', 'C', 'A', 'A'], ['C', 'C', 'C', 'T', 'C', 'T', 'C', 'T', 'A', 'C', 'C', 'C', 'C', 'G', 'G', 'C', 'C', 'A', 'G', 'A', 'A', 'C', 'A', 'C', 'C', 'C', 'A', 'G', 'G', 'C', 'T', 'A', 'A', 'T', 'C', 'A', 'A', 'T', 'C', 'A', 'A', 'C', 'A', 'T', 'A', 'C', 'G', 'T', 'T', 'C', 'A', 'A', 'A', 'C', 'C', 'T', 'A', 'G', 'A', 'C', 'T', 'C', 'T', 'C', 'C', 'C', 'C', 'C', 'A', 'A', 'C', 'T', 'A', 'T', 'A', 'C', 'G', 'C', 'C', 'A', 'C', 'T', 'C', 'C', 'A', 'C', 'G', 'A', 'A', 'G', 'T', 'C', 'G', 'C', 'T', 'C', 'A', 'T', 'C', 'T', 'G', 'G', 'A', 'C', 'C', 'C', 'C', 'T', 'T', 'T', 'T', 'G', 'C', 'C', 'C', 'A', 'A', 'C', 'C', 'A', 'A', 'G', 'C', 'C', 'A', 'T', 'C', 'C', 'T', 'G', 'C', 'G', 'C', 'T', 'T', 'T', 'G', 'G', 'G', 'A', 'A', 'A', 'A', 'G', 'G', 'T', 'C', 'A', 'G', 'C', 'G', 'G', 'T', 'A', 'A', 'C', 'T', 'C', 'C', 'C', 'T', 'T', 'A', 'T', 'C', 'C', 'C', 'T', 'A', 'G', 'G', 'G', 'T', 'A', 'A', 'T', 'A', 'C', 'C', 'G', 'C', 'A', 'T', 'A', 'T', 'C', 'C', 'T', 'C', 'C', 'C', 'A', 'T', 'A', 'A', 'T', 'C', 'C', 'A', 'T', 'T', 'A', 'T', 'A', 'T', 'T', 'A', 'C', 'T', 'A', 'C', 'C', 'C', 'A', 'T', 'C', 'A', 'G', 'C', 'C', 'G', 'G', 'C', 'A', 'C', 'A', 'T', 'C', 'C', 'A', 'C', 'T', 'A', 'C', 'A', 'C', 'C', 'C', 'C', 'C', 'T', 'C', 'C', 'G', 'C', 'C', 'A', 'C', 'C', 'C', 'C', 'A', 'C', 'G', 'G', 'C', 'T', 'C', 'C', 'T', 'C', 'C', 'A', 'A', 'C', 'C', 'C', 'C', 'T', 'C', 'A', 'G', 'A', 'A', 'A', 'A', 'T', 'C', 'C', 'C', 'G', 'T', 'A', 'C', 'T', 'C', 'C', 'T', 'C', 'A', 'C', 'A', 'A', 'G', 'A', 'G', 'A', 'G', 'C', 'C', 'A', 'C', 'C', 'A', 'T', 'A', 'C', 'T', 'C', 'A', 'T', 'C', 'A', 'A', 'A', 'T', 'T', 'C', 'T', 'C', 'A', 'T', 'C', 'C', 'T', 'T', 'A', 'A', 'C', 'A', 'C', 'C', 'C', 'C', 'T', 'C', 'C', 'T', 'C', 'A', 'A', 'C', 'C', 'G', 'C', 'G', 'C', 'G', 'A', 'C', 'A', 'T', 'A', 'T', 'C', 'G', 'A'], ['C', 'C', 'C', 'T', 'C', 'T', 'C', 'C', 'A', 'C', 'T', 'T', 'C', 'A', 'A', 'T', 'C', 'A', 'G', 'A', 'A', 'C', 'A', 'C', 'C', 'C', 'A', 'G', 'A', 'T', 'T', 'A', 'G', 'A', 'C', 'A', 'A', 'T', 'C', 'A', 'G', 'C', 'A', 'T', 'A', 'C', 'A', 'C', 'T', 'T', 'A', 'A', 'A', 'T', 'C', 'T', 'A', 'A', 'A', 'C', 'T', 'T', 'C', 'T', 'T', 'C', 'C', 'C', 'A', 'A', 'T', 'C', 'A', 'T', 'T', 'C', 'A', 'T', 'C', 'G', 'C', 'T', 'T', 'C', 'G', 'C', 'G', 'A', 'A', 'G', 'T', 'C', 'G', 'C', 'T', 'C', 'A', 'C', 'C', 'T', 'A', 'A', 'A', 'C', 'T', 'T', 'C', 'T', 'C', 'T', 'T', 'G', 'T', 'C', 'C', 'A', 'A', 'T', 'C', 'G', 'A', 'A', 'C', 'C', 'A', 'T', 'T', 'C', 'C', 'C', 'C', 'A', 'C', 'C', 'T', 'T', 'A', 'A', 'G', 'A', 'A', 'G', 'A', 'G', 'C', 'T', 'T', 'G', 'A', 'T', 'G', 'A', 'T', 'G', 'A', 'C', 'T', 'C', 'C', 'T', 'C', 'T', 'A', 'C', 'C', 'C', 'T', 'T', 'G', 'A', 'A', 'G', 'C', 'A', 'G', 'C', 'A', 'C', 'C', 'A', 'C', 'A', 'C', 'A', 'T', 'T', 'C', 'T', 'C', 'C', 'T', 'G', 'T', 'A', 'A', 'T', 'C', 'T', 'A', 'T', 'T', 'A', 'C', 'G', 'C', 'C', 'C', 'C', 'C', 'A', 'C', 'T', 'C', 'A', 'T', 'C', 'A', 'G', 'C', 'C', 'A', 'G', 'C', 'A', 'T', 'A', 'T', 'C', 'C', 'G', 'T', 'C', 'A', 'C', 'A', 'T', 'C', 'T', 'C', 'C', 'C', 'C', 'C', 'G', 'C', 'C', 'A', 'C', 'C', 'C', 'C', 'A', 'T', 'A', 'A', 'T', 'T', 'C', 'C', 'T', 'T', 'C', 'A', 'G', 'C', 'C', 'C', 'C', 'C', 'C', 'A', 'A', 'G', 'A', 'A', 'A', 'T', 'T', 'C', 'C', 'G', 'T', 'A', 'T', 'C', 'C', 'C', 'T', 'C', 'A', 'C', 'A', 'G', 'G', 'A', 'A', 'G', 'A', 'C', 'C', 'A', 'C', 'C', 'A', 'C', 'A', 'T', 'T', 'C', 'A', 'A', 'C', 'G', 'A', 'A', 'C', 'C', 'C', 'T', 'T', 'A', 'T', 'C', 'T', 'T', 'C', 'C', 'G', 'T', 'G', 'T', 'C', 'C', 'C', 'C', 'C', 'C', 'T', 'C', 'A', 'G', 'C', 'C', 'G', 'T', 'G', 'T', 'G', 'G', 'C', 'A', 'T', 'A', 'C', 'C', 'A', 'A'], ['C', 'C', 'C', 'T', 'C', 'T', 'C', 'T', 'A', 'C', 'T', 'C', 'C', 'G', 'A', 'C', 'C', 'G', 'G', 'G', 'A', 'C', 'A', 'C', 'C', 'C', 'A', 'G', 'A', 'C', 'T', 'A', 'A', 'C', 'C', 'A', 'G', 'T', 'A', 'G', 'A', 'C', 'A', 'T', 'A', 'C', 'A', 'T', 'T', 'C', 'A', 'A', 'A', 'C', 'C', 'T', 'A', 'A', 'A', 'T', 'T', 'C', 'C', 'C', 'T', 'C', 'C', 'C', 'A', 'A', 'T', 'T', 'A', 'T', 'A', 'C', 'A', 'C', 'C', 'G', 'C', 'T', 'C', 'C', 'A', 'C', 'G', 'A', 'A', 'G', 'T', 'C', 'G', 'C', 'T', 'C', 'G', 'T', 'C', 'T', 'A', 'A', 'A', 'C', 'T', 'C', 'T', 'T', 'C', 'T', 'T', 'G', 'T', 'C', 'T', 'A', 'A', 'C', 'C', 'A', 'A', 'G', 'C', 'C', 'A', 'T', 'C', 'T', 'T', 'C', 'T', 'A', 'C', 'C', 'T', 'T', 'A', 'G', 'G', 'A', 'A', 'A', 'G', 'A', 'C', 'T', 'C', 'A', 'G', 'C', 'G', 'G', 'T', 'A', 'A', 'C', 'T', 'C', 'C', 'C', 'C', 'T', 'G', 'C', 'C', 'C', 'T', 'T', 'G', 'G', 'A', 'A', 'C', 'A', 'G', 'C', 'G', 'C', 'C', 'A', 'C', 'A', 'C', 'G', 'C', 'C', 'T', 'T', 'C', 'C', 'T', 'G', 'T', 'A', 'A', 'T', 'C', 'C', 'G', 'C', 'T', 'G', 'C', 'A', 'T', 'C', 'C', 'C', 'C', 'A', 'C', 'C', 'T', 'A', 'C', 'C', 'A', 'G', 'C', 'C', 'A', 'A', 'C', 'A', 'C', 'A', 'T', 'T', 'C', 'G', 'C', 'T', 'A', 'C', 'A', 'C', 'T', 'C', 'C', 'T', 'C', 'T', 'T', 'G', 'C', 'C', 'A', 'C', 'C', 'C', 'C', 'A', 'C', 'A', 'G', 'C', 'T', 'C', 'C', 'T', 'C', 'C', 'A', 'A', 'C', 'C', 'C', 'T', 'T', 'C', 'A', 'A', 'A', 'A', 'T', 'G', 'C', 'T', 'C', 'C', 'G', 'C', 'A', 'T', 'C', 'C', 'C', 'C', 'T', 'A', 'C', 'A', 'G', 'G', 'A', 'G', 'A', 'A', 'T', 'C', 'G', 'C', 'C', 'A', 'T', 'A', 'C', 'T', 'C', 'A', 'A', 'T', 'A', 'A', 'A', 'C', 'T', 'C', 'T', 'T', 'A', 'C', 'C', 'T', 'T', 'C', 'A', 'A', 'C', 'A', 'C', 'T', 'T', 'C', 'T', 'C', 'T', 'T', 'C', 'A', 'A', 'T', 'C', 'A', 'C', 'G', 'T', 'G', 'A', 'T', 'A', 'T', 'A', 'C', 'C', 'A', 'A'], ['T', 'T', 'T', 'T', 'T', 'T', 'T', 'C', 'A', 'T', 'C', 'C', 'T', 'A', 'A', 'C', 'T', 'A', 'A', 'A', 'G', 'T', 'G', 'G', 'T', 'A', 'A', 'G', 'G', 'T', 'C', 'G', 'A', 'C', 'T', 'G', 'A', 'C', 'T', 'A', 'A', 'T', 'A', 'T', 'A', 'C', 'A', 'T', 'T', 'T', 'A', 'A', 'G', 'T', 'C', 'T', 'A', 'G', 'G', 'A', 'C', 'T', 'T', 'C', 'C', 'A', 'C', 'T', 'G', 'T', 'T', 'T', 'A', 'T', 'C', 'T', 'G', 'C', 'T', 'A', 'T', 'T', 'C', 'C', 'A', 'T', 'A', 'A', 'G', 'A', 'C', 'T', 'A', 'C', 'T', 'A', 'A', 'T', 'T', 'C', 'A', 'G', 'G', 'T', 'T', 'C', 'A', 'T', 'T', 'C', 'T', 'A', 'T', 'C', 'T', 'A', 'A', 'C', 'C', 'A', 'A', 'G', 'C', 'C', 'G', 'T', 'C', 'C', 'C', 'A', 'C', 'G', 'C', 'T', 'C', 'C', 'A', 'G', 'A', 'A', 'A', 'A', 'A', 'G', 'C', 'T', 'C', 'A', 'G', 'T', 'G', 'G', 'C', 'A', 'A', 'C', 'T', 'T', 'C', 'C', 'C', 'T', 'A', 'T', 'C', 'C', 'T', 'C', 'A', 'G', 'A', 'G', 'C', 'A', 'A', 'T', 'A', 'C', 'T', 'A', 'C', 'T', 'C', 'A', 'T', 'T', 'C', 'C', 'T', 'C', 'T', 'G', 'C', 'A', 'A', 'T', 'T', 'C', 'C', 'T', 'C', 'A', 'C', 'A', 'T', 'C', 'C', 'T', 'C', 'A', 'T', 'C', 'T', 'G', 'T', 'C', 'C', 'G', 'C', 'T', 'A', 'A', 'T', 'A', 'C', 'G', 'C', 'T', 'T', 'A', 'A', 'C', 'G', 'T', 'A', 'C', 'T', 'T', 'T', 'C', 'T', 'T', 'C', 'A', 'T', 'C', 'G', 'C', 'A', 'T', 'T', 'G', 'T', 'A', 'G', 'C', 'T', 'C', 'C', 'T', 'C', 'C', 'G', 'A', 'C', 'C', 'T', 'T', 'T', 'C', 'A', 'G', 'G', 'A', 'T', 'A', 'C', 'T', 'T', 'T', 'A', 'T', 'A', 'T', 'T', 'C', 'A', 'A', 'T', 'A', 'T', 'A', 'A', 'A', 'C', 'G', 'A', 'A', 'T', 'C', 'A', 'T', 'T', 'A', 'C', 'A', 'C', 'T', 'C', 'C', 'A', 'T', 'A', 'G', 'A', 'C', 'C', 'C', 'T', 'C', 'A', 'T', 'T', 'T', 'T', 'T', 'G', 'A', 'T', 'G', 'T', 'T', 'C', 'T', 'C', 'T', 'C', 'T', 'T', 'A', 'A', 'C', 'T', 'A', 'T', 'A', 'T', 'A', 'C', 'T', 'G', 'T', 'G', 'C', 'C', 'A', 'A'], ['C', 'T', 'C', 'C', 'C', 'T', 'C', 'C', 'G', 'T', 'C', 'C', 'C', 'A', 'A', 'T', 'C', 'A', 'G', 'G', 'A', 'C', 'G', 'T', 'C', 'T', 'G', 'G', 'G', 'C', 'C', 'G', 'A', 'C', 'C', 'A', 'C', 'C', 'C', 'A', 'G', 'C', 'A', 'C', 'G', 'C', 'A', 'T', 'G', 'C', 'A', 'G', 'A', 'T', 'C', 'C', 'A', 'G', 'G', 'C', 'T', 'C', 'T', 'C', 'T', 'A', 'C', 'C', 'A', 'G', 'T', 'C', 'A', 'C', 'G', 'C', 'A', 'T', 'A', 'A', 'C', 'T', 'C', 'T', 'G', 'C', 'A', 'G', 'A', 'G', 'T', 'C', 'G', 'T', 'C', 'C', 'A', 'T', 'C', 'T', 'A', 'A', 'A', 'C', 'T', 'T', 'A', 'T', 'T', 'C', 'C', 'A', 'T', 'A', 'C', 'G', 'G', 'C', 'G', 'G', 'A', 'A', 'C', 'T', 'A', 'C', 'C', 'C', 'T', 'G', 'C', 'A', 'T', 'C', 'C', 'T', 'A', 'C', 'G', 'A', 'A', 'A', 'A', 'T', 'A', 'C', 'A', 'A', 'G', 'T', 'A', 'A', 'C', 'T', 'C', 'T', 'C', 'T', 'T', 'C', 'C', 'T', 'A', 'C', 'T', 'T', 'T', 'T', 'A', 'G', 'A', 'G', 'C', 'C', 'A', 'T', 'A', 'C', 'C', 'A', 'T', 'T', 'C', 'A', 'C', 'C', 'T', 'T', 'C', 'T', 'G', 'A', 'T', 'A', 'A', 'T', 'C', 'C', 'T', 'C', 'T', 'A', 'T', 'A', 'T', 'T', 'C', 'T', 'T', 'A', 'C', 'C', 'T', 'C', 'T', 'C', 'A', 'G', 'C', 'C', 'G', 'G', 'T', 'A', 'C', 'A', 'T', 'C', 'C', 'A', 'C', 'T', 'A', 'C', 'A', 'C', 'C', 'C', 'C', 'C', 'T', 'C', 'G', 'G', 'C', 'C', 'A', 'T', 'A', 'T', 'C', 'G', 'T', 'A', 'G', 'C', 'C', 'T', 'C', 'C', 'T', 'C', 'A', 'A', 'C', 'T', 'T', 'C', 'T', 'T', 'G', 'A', 'A', 'G', 'C', 'A', 'C', 'C', 'T', 'C', 'G', 'T', 'A', 'C', 'T', 'C', 'T', 'G', 'C', 'G', 'C', 'A', 'A', 'G', 'A', 'G', 'A', 'A', 'T', 'T', 'A', 'C', 'C', 'T', 'C', 'G', 'T', 'C', 'T', 'A', 'A', 'C', 'A', 'A', 'G', 'C', 'T', 'T', 'C', 'T', 'G', 'T', 'T', 'T', 'C', 'C', 'A', 'G', 'C', 'A', 'T', 'C', 'C', 'C', 'C', 'C', 'C', 'T', 'C', 'A', 'A', 'C', 'T', 'A', 'C', 'G', 'C', 'G', 'A', 'C', 'A', 'T', 'A', 'C', 'C', 'G', 'A'], ['C', 'C', 'C', 'T', 'C', 'T', 'C', 'C', 'A', 'T', 'T', 'T', 'T', 'A', 'A', 'C', 'C', 'A', 'G', 'A', 'A', 'T', 'A', 'C', 'C', 'T', 'A', 'G', 'G', 'T', 'T', 'A', 'A', 'T', 'C', 'A', 'G', 'T', 'C', 'A', 'A', 'C', 'G', 'T', 'A', 'C', 'A', 'T', 'T', 'C', 'A', 'A', 'A', 'C', 'T', 'T', 'A', 'G', 'A', 'C', 'C', 'T', 'C', 'C', 'T', 'C', 'C', 'C', 'G', 'G', 'T', 'T', 'G', 'T', 'A', 'T', 'A', 'C', 'C', 'G', 'C', 'T', 'C', 'C', 'A', 'C', 'G', 'A', 'A', 'G', 'C', 'C', 'G', 'C', 'T', 'C', 'A', 'T', 'C', 'T', 'A', 'A', 'A', 'C', 'T', 'T', 'C', 'T', 'T', 'T', 'T', 'G', 'T', 'C', 'T', 'A', 'A', 'C', 'C', 'A', 'A', 'G', 'C', 'C', 'G', 'T', 'C', 'C', 'T', 'A', 'C', 'G', 'C', 'T', 'T', 'C', 'A', 'G', 'G', 'G', 'A', 'A', 'A', 'G', 'C', 'T', 'C', 'A', 'G', 'T', 'G', 'G', 'T', 'A', 'A', 'C', 'T', 'T', 'C', 'T', 'C', 'C', 'G', 'C', 'C', 'C', 'C', 'T', 'A', 'G', 'A', 'G', 'C', 'A', 'G', 'C', 'A', 'C', 'C', 'G', 'C', 'A', 'C', 'A', 'C', 'C', 'C', 'T', 'C', 'C', 'T', 'G', 'T', 'A', 'A', 'C', 'C', 'T', 'A', 'C', 'T', 'G', 'T', 'A', 'T', 'T', 'C', 'C', 'C', 'A', 'C', 'C', 'C', 'A', 'C', 'C', 'A', 'G', 'C', 'C', 'A', 'G', 'C', 'A', 'C', 'A', 'T', 'C', 'C', 'G', 'C', 'T', 'A', 'C', 'A', 'C', 'T', 'T', 'T', 'T', 'C', 'T', 'C', 'A', 'C', 'C', 'A', 'C', 'C', 'C', 'C', 'A', 'C', 'G', 'G', 'C', 'T', 'C', 'C', 'T', 'C', 'C', 'A', 'A', 'C', 'C', 'C', 'T', 'T', 'C', 'A', 'A', 'A', 'A', 'A', 'A', 'T', 'C', 'T', 'C', 'G', 'C', 'C', 'C', 'T', 'C', 'T', 'T', 'C', 'A', 'C', 'G', 'A', 'G', 'A', 'G', 'A', 'G', 'C', 'C', 'A', 'C', 'C', 'A', 'T', 'A', 'T', 'T', 'C', 'A', 'A', 'T', 'A', 'A', 'A', 'C', 'C', 'C', 'T', 'C', 'A', 'T', 'T', 'T', 'T', 'C', 'A', 'A', 'C', 'A', 'C', 'T', 'C', 'T', 'C', 'C', 'C', 'T', 'C', 'A', 'A', 'C', 'C', 'A', 'C', 'G', 'T', 'G', 'A', 'T', 'A', 'C', 'A', 'C', 'T', 'G', 'G'], ['C', 'C', 'C', 'T', 'C', 'T', 'C', 'C', 'A', 'C', 'T', 'C', 'C', 'A', 'A', 'C', 'C', 'A', 'G', 'A', 'A', 'T', 'A', 'C', 'C', 'C', 'A', 'G', 'A', 'C', 'T', 'A', 'A', '--', 'C', 'A', 'G', 'T', 'C', 'A', 'A', 'C', 'A', 'T', 'A', 'C', 'A', 'T', 'T', 'C', 'A', 'A', 'A', 'C', 'C', 'T', 'A', 'G', 'A', 'C', 'T', 'T', 'C', 'C', 'T', 'C', 'C', 'C', 'A', '--', 'T', 'T', 'A', 'T', 'A', 'C', 'A', 'C', 'C', '--', 'C', 'T', 'C', 'C', 'A', 'C', 'G', 'A', 'A', 'G', 'C', 'C', 'G', 'C', 'T', 'C', 'A', 'T', 'C', 'T', 'A', 'A', 'A', 'C', 'T', 'T', 'C', 'T', 'T', 'T', 'T', 'G', 'T', 'C', 'C', 'A', 'A', 'C', 'C', 'A', 'A', 'G', 'C', 'C', 'A', 'T', 'C', 'C', 'T', '--', 'C', 'G', 'C', 'T', 'T', 'T', 'A', 'G', 'G', 'A', 'A', 'A', 'A', 'G', 'C', 'T', 'C', 'A', 'G', 'T', 'G', 'G', 'T', 'A', 'A', 'C', 'T', 'T', 'C', 'C', 'C', 'T', 'A', 'C', 'C', 'C', 'T', 'T', 'A', 'G', 'A', 'G', 'C', 'A', 'G', 'C', 'A', 'C', 'C', 'G', 'C', 'A', 'C', 'A', 'C', 'C', 'C', 'T', 'C', 'C', 'T', 'G', 'T', 'A', 'A', 'T', 'C', 'C', 'A', 'C', 'T', 'A', 'C', 'A', 'T', 'T', 'C', 'C', 'C', 'A', 'C', 'C', 'C', 'A', 'T', 'C', 'A', 'G', 'C', 'C', 'A', 'G', 'C', 'A', 'C', 'A', 'T', 'C', 'C', 'G', 'C', 'T', 'A', 'C', 'A', 'C', 'T', 'C', 'T', 'C', 'C', 'C', 'C', 'G', 'C', 'C', 'A', 'C', 'C', 'C', 'C', 'A', 'C', 'A', 'G', 'C', 'T', 'C', 'C', 'T', 'C', 'C', 'A', 'A', 'C', 'C', 'C', 'T', 'T', 'C', 'A', 'A', 'A', 'A', 'A', 'A', 'C', 'C', 'T', 'C', 'G', 'T', 'A', 'C', 'T', 'C', '--', 'T', 'C', 'A', 'C', 'A', 'A', 'G', 'A', 'G', 'A', 'A', 'C', 'C', 'A', 'C', 'C', 'A', 'T', 'A', 'C', 'T', 'C', 'A', 'A', 'T', 'A', 'A', 'A', 'C', 'T', 'C', 'T', 'C', 'A', 'T', 'T', 'T', 'T', 'C', 'A', 'A', 'C', 'A', 'C', 'T', 'C', 'C', 'C', 'C', 'C', 'T', 'C', 'A', 'A', 'C', 'C', 'A', 'C', 'G', 'T', 'G', 'A', 'T', 'A', 'T', 'A', 'C', 'C', 'G', 'A']]\n"
     ]
    }
   ],
   "source": [
    "revdic = {1:'A', 2:'C', 3:'G', 4:'T', '--':'--'}\n",
    "q = []\n",
    "modes = []\n",
    "for i in range(len(snp_index)):\n",
    "    modes.append(revdic[snp_mode[i]])\n",
    "for j in range(9):\n",
    "    snp_i = []\n",
    "    for i in range(len(snp_index)):\n",
    "        snp_i.append(cytb_seqs[species_list[j]][snp_index[i]])\n",
    "    q.append(snp_i)\n",
    "q.append(modes)\n",
    "print(q)"
   ]
  },
  {
   "cell_type": "code",
   "execution_count": 606,
   "metadata": {},
   "outputs": [],
   "source": [
    "qpd = pd.DataFrame(q)"
   ]
  },
  {
   "cell_type": "code",
   "execution_count": 607,
   "metadata": {},
   "outputs": [],
   "source": [
    "df2 = pd.DataFrame(['(Mode)'])"
   ]
  },
  {
   "cell_type": "code",
   "execution_count": 608,
   "metadata": {},
   "outputs": [],
   "source": [
    "df3 = bears_df.species.append(df2, ignore_index=True)"
   ]
  },
  {
   "cell_type": "code",
   "execution_count": 609,
   "metadata": {},
   "outputs": [
    {
     "data": {
      "text/html": [
       "<div>\n",
       "<style scoped>\n",
       "    .dataframe tbody tr th:only-of-type {\n",
       "        vertical-align: middle;\n",
       "    }\n",
       "\n",
       "    .dataframe tbody tr th {\n",
       "        vertical-align: top;\n",
       "    }\n",
       "\n",
       "    .dataframe thead th {\n",
       "        text-align: right;\n",
       "    }\n",
       "</style>\n",
       "<table border=\"1\" class=\"dataframe\">\n",
       "  <thead>\n",
       "    <tr style=\"text-align: right;\">\n",
       "      <th></th>\n",
       "      <th>0</th>\n",
       "    </tr>\n",
       "  </thead>\n",
       "  <tbody>\n",
       "    <tr>\n",
       "      <th>0</th>\n",
       "      <td>Ursus spelaeus</td>\n",
       "    </tr>\n",
       "    <tr>\n",
       "      <th>1</th>\n",
       "      <td>Ursus arctos</td>\n",
       "    </tr>\n",
       "    <tr>\n",
       "      <th>2</th>\n",
       "      <td>Ursus thibetanus</td>\n",
       "    </tr>\n",
       "    <tr>\n",
       "      <th>3</th>\n",
       "      <td>Melursus ursinus</td>\n",
       "    </tr>\n",
       "    <tr>\n",
       "      <th>4</th>\n",
       "      <td>Ursus americanus</td>\n",
       "    </tr>\n",
       "    <tr>\n",
       "      <th>5</th>\n",
       "      <td>Helarctos malayanus</td>\n",
       "    </tr>\n",
       "    <tr>\n",
       "      <th>6</th>\n",
       "      <td>Ailuropoda melanoleuca</td>\n",
       "    </tr>\n",
       "    <tr>\n",
       "      <th>7</th>\n",
       "      <td>Tremarctos ornatus</td>\n",
       "    </tr>\n",
       "    <tr>\n",
       "      <th>8</th>\n",
       "      <td>Ursus maritimus</td>\n",
       "    </tr>\n",
       "    <tr>\n",
       "      <th>9</th>\n",
       "      <td>(Mode)</td>\n",
       "    </tr>\n",
       "  </tbody>\n",
       "</table>\n",
       "</div>"
      ],
      "text/plain": [
       "                        0\n",
       "0          Ursus spelaeus\n",
       "1            Ursus arctos\n",
       "2        Ursus thibetanus\n",
       "3        Melursus ursinus\n",
       "4        Ursus americanus\n",
       "5     Helarctos malayanus\n",
       "6  Ailuropoda melanoleuca\n",
       "7      Tremarctos ornatus\n",
       "8         Ursus maritimus\n",
       "9                  (Mode)"
      ]
     },
     "execution_count": 609,
     "metadata": {},
     "output_type": "execute_result"
    }
   ],
   "source": [
    "df3"
   ]
  },
  {
   "cell_type": "code",
   "execution_count": 610,
   "metadata": {},
   "outputs": [],
   "source": [
    "qpdc = qpd.set_index(df3.iloc[0:10,0])"
   ]
  },
  {
   "cell_type": "code",
   "execution_count": 611,
   "metadata": {},
   "outputs": [],
   "source": [
    "qpdc.columns = snp_index"
   ]
  },
  {
   "cell_type": "code",
   "execution_count": 612,
   "metadata": {},
   "outputs": [],
   "source": [
    "qpdc.index.name = ''"
   ]
  },
  {
   "cell_type": "code",
   "execution_count": 613,
   "metadata": {},
   "outputs": [
    {
     "data": {
      "text/html": [
       "<div>\n",
       "<style scoped>\n",
       "    .dataframe tbody tr th:only-of-type {\n",
       "        vertical-align: middle;\n",
       "    }\n",
       "\n",
       "    .dataframe tbody tr th {\n",
       "        vertical-align: top;\n",
       "    }\n",
       "\n",
       "    .dataframe thead th {\n",
       "        text-align: right;\n",
       "    }\n",
       "</style>\n",
       "<table border=\"1\" class=\"dataframe\">\n",
       "  <thead>\n",
       "    <tr style=\"text-align: right;\">\n",
       "      <th></th>\n",
       "      <th>4</th>\n",
       "      <th>20</th>\n",
       "      <th>23</th>\n",
       "      <th>27</th>\n",
       "      <th>31</th>\n",
       "      <th>32</th>\n",
       "      <th>38</th>\n",
       "      <th>41</th>\n",
       "      <th>46</th>\n",
       "      <th>51</th>\n",
       "      <th>...</th>\n",
       "      <th>1107</th>\n",
       "      <th>1109</th>\n",
       "      <th>1112</th>\n",
       "      <th>1118</th>\n",
       "      <th>1121</th>\n",
       "      <th>1123</th>\n",
       "      <th>1124</th>\n",
       "      <th>1129</th>\n",
       "      <th>1133</th>\n",
       "      <th>1136</th>\n",
       "    </tr>\n",
       "    <tr>\n",
       "      <th></th>\n",
       "      <th></th>\n",
       "      <th></th>\n",
       "      <th></th>\n",
       "      <th></th>\n",
       "      <th></th>\n",
       "      <th></th>\n",
       "      <th></th>\n",
       "      <th></th>\n",
       "      <th></th>\n",
       "      <th></th>\n",
       "      <th></th>\n",
       "      <th></th>\n",
       "      <th></th>\n",
       "      <th></th>\n",
       "      <th></th>\n",
       "      <th></th>\n",
       "      <th></th>\n",
       "      <th></th>\n",
       "      <th></th>\n",
       "      <th></th>\n",
       "      <th></th>\n",
       "    </tr>\n",
       "  </thead>\n",
       "  <tbody>\n",
       "    <tr>\n",
       "      <th>Ursus spelaeus</th>\n",
       "      <td>C</td>\n",
       "      <td>C</td>\n",
       "      <td>T</td>\n",
       "      <td>T</td>\n",
       "      <td>C</td>\n",
       "      <td>T</td>\n",
       "      <td>C</td>\n",
       "      <td>C</td>\n",
       "      <td>A</td>\n",
       "      <td>T</td>\n",
       "      <td>...</td>\n",
       "      <td>G</td>\n",
       "      <td>A</td>\n",
       "      <td>T</td>\n",
       "      <td>A</td>\n",
       "      <td>C</td>\n",
       "      <td>A</td>\n",
       "      <td>C</td>\n",
       "      <td>T</td>\n",
       "      <td>G</td>\n",
       "      <td>A</td>\n",
       "    </tr>\n",
       "    <tr>\n",
       "      <th>Ursus arctos</th>\n",
       "      <td>C</td>\n",
       "      <td>C</td>\n",
       "      <td>C</td>\n",
       "      <td>T</td>\n",
       "      <td>C</td>\n",
       "      <td>T</td>\n",
       "      <td>C</td>\n",
       "      <td>C</td>\n",
       "      <td>A</td>\n",
       "      <td>C</td>\n",
       "      <td>...</td>\n",
       "      <td>G</td>\n",
       "      <td>A</td>\n",
       "      <td>T</td>\n",
       "      <td>A</td>\n",
       "      <td>T</td>\n",
       "      <td>A</td>\n",
       "      <td>C</td>\n",
       "      <td>T</td>\n",
       "      <td>G</td>\n",
       "      <td>G</td>\n",
       "    </tr>\n",
       "    <tr>\n",
       "      <th>Ursus thibetanus</th>\n",
       "      <td>C</td>\n",
       "      <td>C</td>\n",
       "      <td>T</td>\n",
       "      <td>T</td>\n",
       "      <td>C</td>\n",
       "      <td>C</td>\n",
       "      <td>C</td>\n",
       "      <td>C</td>\n",
       "      <td>A</td>\n",
       "      <td>C</td>\n",
       "      <td>...</td>\n",
       "      <td>G</td>\n",
       "      <td>A</td>\n",
       "      <td>C</td>\n",
       "      <td>A</td>\n",
       "      <td>C</td>\n",
       "      <td>A</td>\n",
       "      <td>C</td>\n",
       "      <td>C</td>\n",
       "      <td>A</td>\n",
       "      <td>A</td>\n",
       "    </tr>\n",
       "    <tr>\n",
       "      <th>Melursus ursinus</th>\n",
       "      <td>C</td>\n",
       "      <td>C</td>\n",
       "      <td>C</td>\n",
       "      <td>T</td>\n",
       "      <td>C</td>\n",
       "      <td>T</td>\n",
       "      <td>C</td>\n",
       "      <td>T</td>\n",
       "      <td>A</td>\n",
       "      <td>C</td>\n",
       "      <td>...</td>\n",
       "      <td>G</td>\n",
       "      <td>A</td>\n",
       "      <td>C</td>\n",
       "      <td>A</td>\n",
       "      <td>T</td>\n",
       "      <td>A</td>\n",
       "      <td>T</td>\n",
       "      <td>C</td>\n",
       "      <td>G</td>\n",
       "      <td>A</td>\n",
       "    </tr>\n",
       "    <tr>\n",
       "      <th>Ursus americanus</th>\n",
       "      <td>C</td>\n",
       "      <td>C</td>\n",
       "      <td>C</td>\n",
       "      <td>T</td>\n",
       "      <td>C</td>\n",
       "      <td>T</td>\n",
       "      <td>C</td>\n",
       "      <td>C</td>\n",
       "      <td>A</td>\n",
       "      <td>C</td>\n",
       "      <td>...</td>\n",
       "      <td>G</td>\n",
       "      <td>G</td>\n",
       "      <td>C</td>\n",
       "      <td>A</td>\n",
       "      <td>T</td>\n",
       "      <td>A</td>\n",
       "      <td>C</td>\n",
       "      <td>C</td>\n",
       "      <td>A</td>\n",
       "      <td>A</td>\n",
       "    </tr>\n",
       "    <tr>\n",
       "      <th>Helarctos malayanus</th>\n",
       "      <td>C</td>\n",
       "      <td>C</td>\n",
       "      <td>C</td>\n",
       "      <td>T</td>\n",
       "      <td>C</td>\n",
       "      <td>T</td>\n",
       "      <td>C</td>\n",
       "      <td>T</td>\n",
       "      <td>A</td>\n",
       "      <td>C</td>\n",
       "      <td>...</td>\n",
       "      <td>G</td>\n",
       "      <td>A</td>\n",
       "      <td>T</td>\n",
       "      <td>A</td>\n",
       "      <td>T</td>\n",
       "      <td>A</td>\n",
       "      <td>C</td>\n",
       "      <td>C</td>\n",
       "      <td>A</td>\n",
       "      <td>A</td>\n",
       "    </tr>\n",
       "    <tr>\n",
       "      <th>Ailuropoda melanoleuca</th>\n",
       "      <td>T</td>\n",
       "      <td>T</td>\n",
       "      <td>T</td>\n",
       "      <td>T</td>\n",
       "      <td>T</td>\n",
       "      <td>T</td>\n",
       "      <td>T</td>\n",
       "      <td>C</td>\n",
       "      <td>A</td>\n",
       "      <td>T</td>\n",
       "      <td>...</td>\n",
       "      <td>A</td>\n",
       "      <td>C</td>\n",
       "      <td>T</td>\n",
       "      <td>G</td>\n",
       "      <td>T</td>\n",
       "      <td>G</td>\n",
       "      <td>C</td>\n",
       "      <td>C</td>\n",
       "      <td>A</td>\n",
       "      <td>A</td>\n",
       "    </tr>\n",
       "    <tr>\n",
       "      <th>Tremarctos ornatus</th>\n",
       "      <td>C</td>\n",
       "      <td>T</td>\n",
       "      <td>C</td>\n",
       "      <td>C</td>\n",
       "      <td>C</td>\n",
       "      <td>T</td>\n",
       "      <td>C</td>\n",
       "      <td>C</td>\n",
       "      <td>G</td>\n",
       "      <td>T</td>\n",
       "      <td>...</td>\n",
       "      <td>G</td>\n",
       "      <td>A</td>\n",
       "      <td>C</td>\n",
       "      <td>A</td>\n",
       "      <td>T</td>\n",
       "      <td>A</td>\n",
       "      <td>C</td>\n",
       "      <td>C</td>\n",
       "      <td>G</td>\n",
       "      <td>A</td>\n",
       "    </tr>\n",
       "    <tr>\n",
       "      <th>Ursus maritimus</th>\n",
       "      <td>C</td>\n",
       "      <td>C</td>\n",
       "      <td>C</td>\n",
       "      <td>T</td>\n",
       "      <td>C</td>\n",
       "      <td>T</td>\n",
       "      <td>C</td>\n",
       "      <td>C</td>\n",
       "      <td>A</td>\n",
       "      <td>T</td>\n",
       "      <td>...</td>\n",
       "      <td>G</td>\n",
       "      <td>A</td>\n",
       "      <td>T</td>\n",
       "      <td>A</td>\n",
       "      <td>C</td>\n",
       "      <td>A</td>\n",
       "      <td>C</td>\n",
       "      <td>T</td>\n",
       "      <td>G</td>\n",
       "      <td>G</td>\n",
       "    </tr>\n",
       "    <tr>\n",
       "      <th>(Mode)</th>\n",
       "      <td>C</td>\n",
       "      <td>C</td>\n",
       "      <td>C</td>\n",
       "      <td>T</td>\n",
       "      <td>C</td>\n",
       "      <td>T</td>\n",
       "      <td>C</td>\n",
       "      <td>C</td>\n",
       "      <td>A</td>\n",
       "      <td>C</td>\n",
       "      <td>...</td>\n",
       "      <td>G</td>\n",
       "      <td>A</td>\n",
       "      <td>T</td>\n",
       "      <td>A</td>\n",
       "      <td>T</td>\n",
       "      <td>A</td>\n",
       "      <td>C</td>\n",
       "      <td>C</td>\n",
       "      <td>G</td>\n",
       "      <td>A</td>\n",
       "    </tr>\n",
       "  </tbody>\n",
       "</table>\n",
       "<p>10 rows × 357 columns</p>\n",
       "</div>"
      ],
      "text/plain": [
       "                       4    20   23   27   31   32   38   41   46   51   ...   \\\n",
       "                                                                         ...    \n",
       "Ursus spelaeus            C    C    T    T    C    T    C    C    A    T ...    \n",
       "Ursus arctos              C    C    C    T    C    T    C    C    A    C ...    \n",
       "Ursus thibetanus          C    C    T    T    C    C    C    C    A    C ...    \n",
       "Melursus ursinus          C    C    C    T    C    T    C    T    A    C ...    \n",
       "Ursus americanus          C    C    C    T    C    T    C    C    A    C ...    \n",
       "Helarctos malayanus       C    C    C    T    C    T    C    T    A    C ...    \n",
       "Ailuropoda melanoleuca    T    T    T    T    T    T    T    C    A    T ...    \n",
       "Tremarctos ornatus        C    T    C    C    C    T    C    C    G    T ...    \n",
       "Ursus maritimus           C    C    C    T    C    T    C    C    A    T ...    \n",
       "(Mode)                    C    C    C    T    C    T    C    C    A    C ...    \n",
       "\n",
       "                       1107 1109 1112 1118 1121 1123 1124 1129 1133 1136  \n",
       "                                                                          \n",
       "Ursus spelaeus            G    A    T    A    C    A    C    T    G    A  \n",
       "Ursus arctos              G    A    T    A    T    A    C    T    G    G  \n",
       "Ursus thibetanus          G    A    C    A    C    A    C    C    A    A  \n",
       "Melursus ursinus          G    A    C    A    T    A    T    C    G    A  \n",
       "Ursus americanus          G    G    C    A    T    A    C    C    A    A  \n",
       "Helarctos malayanus       G    A    T    A    T    A    C    C    A    A  \n",
       "Ailuropoda melanoleuca    A    C    T    G    T    G    C    C    A    A  \n",
       "Tremarctos ornatus        G    A    C    A    T    A    C    C    G    A  \n",
       "Ursus maritimus           G    A    T    A    C    A    C    T    G    G  \n",
       "(Mode)                    G    A    T    A    T    A    C    C    G    A  \n",
       "\n",
       "[10 rows x 357 columns]"
      ]
     },
     "execution_count": 613,
     "metadata": {},
     "output_type": "execute_result"
    }
   ],
   "source": [
    "qpdc"
   ]
  },
  {
   "cell_type": "code",
   "execution_count": null,
   "metadata": {},
   "outputs": [],
   "source": []
  },
  {
   "cell_type": "code",
   "execution_count": null,
   "metadata": {},
   "outputs": [],
   "source": []
  },
  {
   "cell_type": "code",
   "execution_count": null,
   "metadata": {},
   "outputs": [],
   "source": []
  },
  {
   "cell_type": "code",
   "execution_count": 217,
   "metadata": {},
   "outputs": [],
   "source": [
    "bears_check = pd.read_csv('bears_mass_cytb.csv')"
   ]
  },
  {
   "cell_type": "code",
   "execution_count": 218,
   "metadata": {},
   "outputs": [
    {
     "data": {
      "text/html": [
       "<div>\n",
       "<style scoped>\n",
       "    .dataframe tbody tr th:only-of-type {\n",
       "        vertical-align: middle;\n",
       "    }\n",
       "\n",
       "    .dataframe tbody tr th {\n",
       "        vertical-align: top;\n",
       "    }\n",
       "\n",
       "    .dataframe thead th {\n",
       "        text-align: right;\n",
       "    }\n",
       "</style>\n",
       "<table border=\"1\" class=\"dataframe\">\n",
       "  <thead>\n",
       "    <tr style=\"text-align: right;\">\n",
       "      <th></th>\n",
       "      <th>species</th>\n",
       "      <th>mass</th>\n",
       "      <th>Molecular_Weight</th>\n",
       "      <th>GC_Content</th>\n",
       "    </tr>\n",
       "  </thead>\n",
       "  <tbody>\n",
       "    <tr>\n",
       "      <th>0</th>\n",
       "      <td>Ursus spelaeus</td>\n",
       "      <td>550.800</td>\n",
       "      <td>42458.8</td>\n",
       "      <td>0.437719</td>\n",
       "    </tr>\n",
       "    <tr>\n",
       "      <th>1</th>\n",
       "      <td>Ursus arctos</td>\n",
       "      <td>203.500</td>\n",
       "      <td>42414.7</td>\n",
       "      <td>0.437719</td>\n",
       "    </tr>\n",
       "    <tr>\n",
       "      <th>2</th>\n",
       "      <td>Ursus thibetanus</td>\n",
       "      <td>99.714</td>\n",
       "      <td>42306.7</td>\n",
       "      <td>0.45614</td>\n",
       "    </tr>\n",
       "    <tr>\n",
       "      <th>3</th>\n",
       "      <td>Melursus ursinus</td>\n",
       "      <td>100.030</td>\n",
       "      <td>42552</td>\n",
       "      <td>0.451754</td>\n",
       "    </tr>\n",
       "    <tr>\n",
       "      <th>4</th>\n",
       "      <td>Ursus americanus</td>\n",
       "      <td>110.560</td>\n",
       "      <td>42427.7</td>\n",
       "      <td>0.439474</td>\n",
       "    </tr>\n",
       "    <tr>\n",
       "      <th>5</th>\n",
       "      <td>Helarctos malayanus</td>\n",
       "      <td>47.020</td>\n",
       "      <td>42560.9</td>\n",
       "      <td>0.442982</td>\n",
       "    </tr>\n",
       "    <tr>\n",
       "      <th>6</th>\n",
       "      <td>Ailuropoda melanoleuca</td>\n",
       "      <td>118.200</td>\n",
       "      <td>42702.2</td>\n",
       "      <td>0.407895</td>\n",
       "    </tr>\n",
       "    <tr>\n",
       "      <th>7</th>\n",
       "      <td>Tremarctos ornatus</td>\n",
       "      <td>140.700</td>\n",
       "      <td>42384.8</td>\n",
       "      <td>0.44386</td>\n",
       "    </tr>\n",
       "    <tr>\n",
       "      <th>8</th>\n",
       "      <td>Ursus maritimus</td>\n",
       "      <td>425.100</td>\n",
       "      <td>42454.8</td>\n",
       "      <td>0.442982</td>\n",
       "    </tr>\n",
       "  </tbody>\n",
       "</table>\n",
       "</div>"
      ],
      "text/plain": [
       "                  species     mass Molecular_Weight GC_Content\n",
       "0          Ursus spelaeus  550.800          42458.8   0.437719\n",
       "1            Ursus arctos  203.500          42414.7   0.437719\n",
       "2        Ursus thibetanus   99.714          42306.7    0.45614\n",
       "3        Melursus ursinus  100.030            42552   0.451754\n",
       "4        Ursus americanus  110.560          42427.7   0.439474\n",
       "5     Helarctos malayanus   47.020          42560.9   0.442982\n",
       "6  Ailuropoda melanoleuca  118.200          42702.2   0.407895\n",
       "7      Tremarctos ornatus  140.700          42384.8    0.44386\n",
       "8         Ursus maritimus  425.100          42454.8   0.442982"
      ]
     },
     "execution_count": 218,
     "metadata": {},
     "output_type": "execute_result"
    }
   ],
   "source": [
    "bears_df"
   ]
  },
  {
   "cell_type": "code",
   "execution_count": 219,
   "metadata": {},
   "outputs": [
    {
     "data": {
      "text/html": [
       "<div>\n",
       "<style scoped>\n",
       "    .dataframe tbody tr th:only-of-type {\n",
       "        vertical-align: middle;\n",
       "    }\n",
       "\n",
       "    .dataframe tbody tr th {\n",
       "        vertical-align: top;\n",
       "    }\n",
       "\n",
       "    .dataframe thead th {\n",
       "        text-align: right;\n",
       "    }\n",
       "</style>\n",
       "<table border=\"1\" class=\"dataframe\">\n",
       "  <thead>\n",
       "    <tr style=\"text-align: right;\">\n",
       "      <th></th>\n",
       "      <th>species</th>\n",
       "      <th>mass</th>\n",
       "      <th>Molecular_Weight</th>\n",
       "      <th>GC_Content</th>\n",
       "    </tr>\n",
       "  </thead>\n",
       "  <tbody>\n",
       "    <tr>\n",
       "      <th>0</th>\n",
       "      <td>Ursus spelaeus</td>\n",
       "      <td>550.800</td>\n",
       "      <td>42458.7992</td>\n",
       "      <td>0.437719</td>\n",
       "    </tr>\n",
       "    <tr>\n",
       "      <th>1</th>\n",
       "      <td>Ursus arctos</td>\n",
       "      <td>203.500</td>\n",
       "      <td>42414.7435</td>\n",
       "      <td>0.437719</td>\n",
       "    </tr>\n",
       "    <tr>\n",
       "      <th>2</th>\n",
       "      <td>Ursus thibetanus</td>\n",
       "      <td>99.714</td>\n",
       "      <td>42306.6735</td>\n",
       "      <td>0.456140</td>\n",
       "    </tr>\n",
       "    <tr>\n",
       "      <th>3</th>\n",
       "      <td>Melursus ursinus</td>\n",
       "      <td>100.030</td>\n",
       "      <td>42551.9900</td>\n",
       "      <td>0.451754</td>\n",
       "    </tr>\n",
       "    <tr>\n",
       "      <th>4</th>\n",
       "      <td>Ursus americanus</td>\n",
       "      <td>110.560</td>\n",
       "      <td>42427.7439</td>\n",
       "      <td>0.439474</td>\n",
       "    </tr>\n",
       "    <tr>\n",
       "      <th>5</th>\n",
       "      <td>Helarctos malayanus</td>\n",
       "      <td>47.020</td>\n",
       "      <td>42560.8910</td>\n",
       "      <td>0.442982</td>\n",
       "    </tr>\n",
       "    <tr>\n",
       "      <th>6</th>\n",
       "      <td>Ailuropoda melanoleuca</td>\n",
       "      <td>118.200</td>\n",
       "      <td>42702.1845</td>\n",
       "      <td>0.407895</td>\n",
       "    </tr>\n",
       "    <tr>\n",
       "      <th>7</th>\n",
       "      <td>Tremarctos ornatus</td>\n",
       "      <td>140.700</td>\n",
       "      <td>42384.8266</td>\n",
       "      <td>0.443860</td>\n",
       "    </tr>\n",
       "    <tr>\n",
       "      <th>8</th>\n",
       "      <td>Ursus maritimus</td>\n",
       "      <td>425.100</td>\n",
       "      <td>42454.7873</td>\n",
       "      <td>0.442982</td>\n",
       "    </tr>\n",
       "  </tbody>\n",
       "</table>\n",
       "</div>"
      ],
      "text/plain": [
       "                  species     mass  Molecular_Weight  GC_Content\n",
       "0          Ursus spelaeus  550.800        42458.7992    0.437719\n",
       "1            Ursus arctos  203.500        42414.7435    0.437719\n",
       "2        Ursus thibetanus   99.714        42306.6735    0.456140\n",
       "3        Melursus ursinus  100.030        42551.9900    0.451754\n",
       "4        Ursus americanus  110.560        42427.7439    0.439474\n",
       "5     Helarctos malayanus   47.020        42560.8910    0.442982\n",
       "6  Ailuropoda melanoleuca  118.200        42702.1845    0.407895\n",
       "7      Tremarctos ornatus  140.700        42384.8266    0.443860\n",
       "8         Ursus maritimus  425.100        42454.7873    0.442982"
      ]
     },
     "execution_count": 219,
     "metadata": {},
     "output_type": "execute_result"
    }
   ],
   "source": [
    "bears_check"
   ]
  },
  {
   "cell_type": "code",
   "execution_count": null,
   "metadata": {},
   "outputs": [],
   "source": [
    "type(cytb_seqs[species_list[0]])"
   ]
  },
  {
   "cell_type": "code",
   "execution_count": null,
   "metadata": {},
   "outputs": [],
   "source": [
    "cytb_seqs[species_list[0]]"
   ]
  },
  {
   "cell_type": "code",
   "execution_count": null,
   "metadata": {},
   "outputs": [],
   "source": [
    "print(CodonTable.unambiguous_dna_by_name[\"Vertebrate Mitochondrial\"])"
   ]
  },
  {
   "cell_type": "code",
   "execution_count": 34,
   "metadata": {},
   "outputs": [],
   "source": [
    "mito_table = CodonTable.unambiguous_dna_by_name[\"Vertebrate Mitochondrial\"]"
   ]
  },
  {
   "cell_type": "code",
   "execution_count": 35,
   "metadata": {},
   "outputs": [
    {
     "data": {
      "text/plain": [
       "['__class__',\n",
       " '__delattr__',\n",
       " '__dict__',\n",
       " '__dir__',\n",
       " '__doc__',\n",
       " '__eq__',\n",
       " '__format__',\n",
       " '__ge__',\n",
       " '__getattribute__',\n",
       " '__gt__',\n",
       " '__hash__',\n",
       " '__init__',\n",
       " '__init_subclass__',\n",
       " '__le__',\n",
       " '__lt__',\n",
       " '__module__',\n",
       " '__ne__',\n",
       " '__new__',\n",
       " '__reduce__',\n",
       " '__reduce_ex__',\n",
       " '__repr__',\n",
       " '__setattr__',\n",
       " '__sizeof__',\n",
       " '__str__',\n",
       " '__subclasshook__',\n",
       " '__weakref__',\n",
       " 'back_table',\n",
       " 'forward_table',\n",
       " 'id',\n",
       " 'names',\n",
       " 'nucleotide_alphabet',\n",
       " 'protein_alphabet',\n",
       " 'start_codons',\n",
       " 'stop_codons']"
      ]
     },
     "execution_count": 35,
     "metadata": {},
     "output_type": "execute_result"
    }
   ],
   "source": [
    "dir(mito_table)"
   ]
  },
  {
   "cell_type": "code",
   "execution_count": null,
   "metadata": {},
   "outputs": [],
   "source": [
    "mito_table.stop_codons"
   ]
  },
  {
   "cell_type": "code",
   "execution_count": null,
   "metadata": {},
   "outputs": [],
   "source": [
    "def translate_function(nucseq):\n",
    "    mito_table = CodonTable.unambiguous_dna_by_name[\"Vertebrate Mitochondrial\"]\n",
    "    aa_seq = \"\"\n",
    "    for x,y,z in zip(nucseq[0::3],nucseq[1::3],nucseq[2::3]):\n",
    "        codon = x + y + z\n",
    "        if codon in mito_table.stop_codons:  #http://biopython.org/DIST/docs/tutorial/Tutorial.html Section 3.10\n",
    "            break\n",
    "        else:\n",
    "            aa_seq += (mito_table.forward_table[codon])\n",
    "    return(aa_seq)"
   ]
  },
  {
   "cell_type": "code",
   "execution_count": null,
   "metadata": {},
   "outputs": [],
   "source": [
    "alt_translator(cytb_seqs[species_list[0]])"
   ]
  },
  {
   "cell_type": "code",
   "execution_count": null,
   "metadata": {},
   "outputs": [],
   "source": [
    "translate_function(cytb_seqs[species_list[0]])"
   ]
  },
  {
   "cell_type": "code",
   "execution_count": null,
   "metadata": {},
   "outputs": [],
   "source": [
    "from Bio.SeqUtils import molecular_weight\n",
    "molecular_weight(translate_function(cytb_seqs[species_list[0]]), seq_type='protein', double_stranded=False, circular=False, monoisotopic=False)"
   ]
  },
  {
   "cell_type": "code",
   "execution_count": 131,
   "metadata": {},
   "outputs": [
    {
     "data": {
      "text/plain": [
       "43.771929824561404"
      ]
     },
     "execution_count": 131,
     "metadata": {},
     "output_type": "execute_result"
    }
   ],
   "source": [
    "from Bio.SeqUtils import GC\n",
    "GC(cytb_seqs[species_list[0]])"
   ]
  },
  {
   "cell_type": "code",
   "execution_count": null,
   "metadata": {},
   "outputs": [],
   "source": [
    "for x in range(9):\n",
    "    print(len(translate_function(cytb_seqs[species_list[x]])))"
   ]
  },
  {
   "cell_type": "code",
   "execution_count": null,
   "metadata": {},
   "outputs": [],
   "source": [
    "compute_molecular_weight(translate_function(cytb_seqs[species_list[0]]))"
   ]
  },
  {
   "cell_type": "code",
   "execution_count": null,
   "metadata": {},
   "outputs": [],
   "source": [
    "gc_content(cytb_seqs[species_list[0]])"
   ]
  },
  {
   "cell_type": "code",
   "execution_count": null,
   "metadata": {},
   "outputs": [],
   "source": [
    "for x in range(9):\n",
    "    print(gc_content(cytb_seqs[species_list[x]]))"
   ]
  },
  {
   "cell_type": "code",
   "execution_count": null,
   "metadata": {},
   "outputs": [],
   "source": []
  },
  {
   "cell_type": "code",
   "execution_count": null,
   "metadata": {},
   "outputs": [],
   "source": []
  },
  {
   "cell_type": "code",
   "execution_count": null,
   "metadata": {},
   "outputs": [],
   "source": []
  },
  {
   "cell_type": "code",
   "execution_count": null,
   "metadata": {},
   "outputs": [],
   "source": []
  }
 ],
 "metadata": {
  "kernelspec": {
   "display_name": "Python 3",
   "language": "python",
   "name": "python3"
  },
  "language_info": {
   "codemirror_mode": {
    "name": "ipython",
    "version": 3
   },
   "file_extension": ".py",
   "mimetype": "text/x-python",
   "name": "python",
   "nbconvert_exporter": "python",
   "pygments_lexer": "ipython3",
   "version": "3.7.0"
  }
 },
 "nbformat": 4,
 "nbformat_minor": 2
}
