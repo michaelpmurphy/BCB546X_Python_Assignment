{
 "cells": [
  {
   "cell_type": "markdown",
   "metadata": {},
   "source": [
    "## **BCB546X Python Project**"
   ]
  },
  {
   "cell_type": "code",
   "execution_count": 1,
   "metadata": {},
   "outputs": [],
   "source": [
    "from Bio import SeqIO\n",
    "from Bio.Data import CodonTable\n",
    "import pandas as pd\n",
    "import matplotlib.pyplot as plt\n",
    "import seaborn as sns"
   ]
  },
  {
   "cell_type": "code",
   "execution_count": 2,
   "metadata": {},
   "outputs": [],
   "source": [
    "%matplotlib inline"
   ]
  },
  {
   "cell_type": "markdown",
   "metadata": {},
   "source": [
    "### **Functions**"
   ]
  },
  {
   "cell_type": "markdown",
   "metadata": {},
   "source": [
    "#### **Function #1**\n",
    "##### The following function utilizes the 'SeqIO.parse()' function of Biopython.\n",
    "##### In Biopython, 'Seq' objects are the most basic expressions of sequences, containing only a sequence (as a text string) and its corresponding alphabet (DNA, RNA, Protein, etc.)\n",
    "##### A 'SeqRecord' is an object that contains a 'Seq' object along with an ID tag and other possible attributes (such as name and description).\n",
    "##### 'SeqIO.parse()' takes a filename and file format as its arguments, and returns a 'SeqRecord' iterator.\n",
    "\n",
    "##### https://biopython.org/wiki/SeqIO"
   ]
  },
  {
   "cell_type": "code",
   "execution_count": 32,
   "metadata": {},
   "outputs": [],
   "source": [
    "def get_sequences_from_file(fasta_fn):                                  #(1) Defines the function's name (which will take the name of a fasta file as its argument).\n",
    "    sequence_data_dict = {}                                             #(2) Initializes a dictionary named 'sequence_data_dict'.\n",
    "    for record in SeqIO.parse(fasta_fn, \"fasta\"):                       #(3) Initializes a for-loop over the 'SeqRecord' iterator extracted from the specified fasta file (1).\n",
    "        description_list = record.description.split()                   #(4) Extracts the 'description' attribute from each 'SeqRecord' and splits it into a list of the individual words (named 'description_list').\n",
    "        species_name = description_list[1] + \" \" + description_list[2]  #(5) Takes the second and third items (words) from 'description_list' separated by a space, and names this string 'species_name'.\n",
    "        sequence_data_dict[species_name] = record.seq                   #(6) Creates an entry in the dictionary with 'species_name' from (5) as the key and the sequence portion of the 'SeqRecord' object as the value.\n",
    "    return(sequence_data_dict)                                          #(7) Returns the above-generated dictionary as the function's output."
   ]
  },
  {
   "cell_type": "markdown",
   "metadata": {},
   "source": [
    "#### **Function #2**\n",
    "##### In the following translation function, the input sequence is partitioned into three subsets. The first subset (nucseq[0::3]) contains the first nucleotide of the sequence and every third nucleotide thereafter -- which corresponds to the 1st nucleotide of every codon. Likewise, the second (nucseq[1::3]) and third (nucseq[2::3]) subsets contain the 2nd and 3rd nucleotides, respectively, of each codon."
   ]
  },
  {
   "cell_type": "code",
   "execution_count": 33,
   "metadata": {},
   "outputs": [],
   "source": [
    "def translate_function(nucseq):                                                  #(1) Defines the function's name (which will take a nucleotide sequence string or 'SeqRecord' object as its argument).\n",
    "    mito_table = CodonTable.unambiguous_dna_by_name[\"Vertebrate Mitochondrial\"]  #(2) Runs the CodonTable module (imported at start of script) and returns the \"Vertebrate Mitochondrial\" table as an object named 'mito_table'.\n",
    "    aa_seq = \"\"                                                                  #(3) Initializes a blank sequence that will be populated with the amino acids of the translated protein.\n",
    "    for x,y,z in zip(nucseq[0::3],nucseq[1::3],nucseq[2::3]):                    #(4) Initializes a for-loop of three indices iterated over each of the three sequence subsets (described above).\n",
    "        codon = x + y + z                                                        #(5) Combines the nucleotides at a given index value into a three-letter text string (i.e. the codon).\n",
    "        if codon in mito_table.stop_codons:                                      #(6) If the 'codon' is a stop codon, then the translation is terminated without adding another symbol to the sequence. #http://biopython.org/DIST/docs/tutorial/Tutorial.html Section 3.10\n",
    "            break\n",
    "        else:\n",
    "            aa_seq += (mito_table.forward_table[codon])                          #(7) If the 'codon' is not a stop codon, the mito_table converts it to the corresponding amino acid (represented with single-letter codes) and adds the letter to the growing sequence.\n",
    "    return(aa_seq)                                                               #(8) Returns the finished amino acid sequence after the translation terminates."
   ]
  },
  {
   "cell_type": "markdown",
   "metadata": {},
   "source": [
    "#### **Function #3**"
   ]
  },
  {
   "cell_type": "code",
   "execution_count": 34,
   "metadata": {},
   "outputs": [],
   "source": [
    "def alt_translator(nucseq):                                                        #(1) Defines the function's name (again taking a nucleotide sequence string or 'SeqRecord' object as its argument).\n",
    "    seq_object = nucseq.translate(table=\"Vertebrate Mitochondrial\", to_stop=True)  #(2) Uses the 'translate' function in the CodonTable module to convert the input sequence into a 'Seq' object containing the amino acid sequence.  https://biopython.org/wiki/Seq\n",
    "    return(str(seq_object))                                                        #(3) Returns the translated amino acid sequence in the form of a text string."
   ]
  },
  {
   "cell_type": "markdown",
   "metadata": {},
   "source": [
    "#### **Function #4**"
   ]
  },
  {
   "cell_type": "code",
   "execution_count": 35,
   "metadata": {},
   "outputs": [],
   "source": [
    "from Bio.SeqUtils.ProtParam import ProteinAnalysis      # https://biopython.org/wiki/ProtParam\n",
    "def compute_molecular_weight(aa_seq):                   #(1) Defines the function's name (which will take an amino acid sequence in the form of a text string as its argument).\n",
    "    return(ProteinAnalysis(aa_seq).molecular_weight())  #(2) The 'ProteinAnalysis' function converts the input sequence into a specialized object, which is then analyzed using the 'molecular_weight' method to yield the molecular weight of the input sequence."
   ]
  },
  {
   "cell_type": "markdown",
   "metadata": {},
   "source": [
    "#### **Function #5**"
   ]
  },
  {
   "cell_type": "code",
   "execution_count": 36,
   "metadata": {},
   "outputs": [],
   "source": [
    "def gc_content(nucseq):             #(1) Defines the function's name (which will take a nucleotide sequence string or 'SeqRecord' object as its argument).\n",
    "    gc = 0                          #(2) Initializes the counter for the number of 'G' and 'C' nucleotides in the input sequence.\n",
    "    nuc = 0                         #(3) Initializes the counter for the total number of 'A', 'T', 'G', and 'C' nucleotides in the input sequence.\n",
    "    for n in nucseq:                #(4) Initializes a for-loop over each element in the input sequence.\n",
    "        if n in ['G','C']:          #(5) For each element in the input sequence, if the element is a 'G' or 'C' then 'gc' is increased by 1.\n",
    "            gc += 1\n",
    "        if n in ['A','T','G','C']:  #(6) For each element in the input sequence, if the element is an 'A', 'T', 'G', or 'C' then 'nuc' is increased by 1.\n",
    "            nuc += 1\n",
    "    gc_ratio = gc / nuc             #(7) Calculates the ratio of 'G' and 'C' nucleotides in the sequence.\n",
    "    return(gc_ratio)                #(8) Returns the calculated ratio."
   ]
  },
  {
   "cell_type": "markdown",
   "metadata": {},
   "source": [
    "### **Main**"
   ]
  },
  {
   "cell_type": "markdown",
   "metadata": {},
   "source": [
    "#### **Step #6**"
   ]
  },
  {
   "cell_type": "code",
   "execution_count": 37,
   "metadata": {},
   "outputs": [],
   "source": [
    "cytb_seqs = get_sequences_from_file(\"bears_cytb.fasta\")  # Generates a dictionary named 'cytb_seqs' containing the species names and sequences extracted from the 'bears_cytb.fasta' file."
   ]
  },
  {
   "cell_type": "code",
   "execution_count": 38,
   "metadata": {},
   "outputs": [],
   "source": [
    "bears_df = pd.read_csv(\"bears_mass.csv\")  # Imports the data from 'bears_mass.csv' into a pandas DataFrame named 'bears_df'."
   ]
  },
  {
   "cell_type": "code",
   "execution_count": 39,
   "metadata": {},
   "outputs": [],
   "source": [
    "bears_df['Molecular_Weight'] = \"NaN\"  # Adds a column named 'Molecular_Weight' to the 'bears_df' dataframe with 'NaN' as its values."
   ]
  },
  {
   "cell_type": "code",
   "execution_count": 40,
   "metadata": {},
   "outputs": [],
   "source": [
    "bears_df['GC_Content'] = \"NaN\"  # Adds a column named 'GC_Content' to the 'bears_df' dataframe with 'NaN' as its values."
   ]
  },
  {
   "cell_type": "code",
   "execution_count": 41,
   "metadata": {},
   "outputs": [],
   "source": [
    "species_list = list(bears_df.species)  # Converts the entries in the 'species' column of 'bears_df' into a list named 'species_list'."
   ]
  },
  {
   "cell_type": "code",
   "execution_count": 42,
   "metadata": {},
   "outputs": [
    {
     "data": {
      "text/html": [
       "<div>\n",
       "<style scoped>\n",
       "    .dataframe tbody tr th:only-of-type {\n",
       "        vertical-align: middle;\n",
       "    }\n",
       "\n",
       "    .dataframe tbody tr th {\n",
       "        vertical-align: top;\n",
       "    }\n",
       "\n",
       "    .dataframe thead th {\n",
       "        text-align: right;\n",
       "    }\n",
       "</style>\n",
       "<table border=\"1\" class=\"dataframe\">\n",
       "  <thead>\n",
       "    <tr style=\"text-align: right;\">\n",
       "      <th></th>\n",
       "      <th>species</th>\n",
       "      <th>mass</th>\n",
       "      <th>Molecular_Weight</th>\n",
       "      <th>GC_Content</th>\n",
       "    </tr>\n",
       "  </thead>\n",
       "  <tbody>\n",
       "    <tr>\n",
       "      <th>0</th>\n",
       "      <td>Ursus spelaeus</td>\n",
       "      <td>550.800</td>\n",
       "      <td>NaN</td>\n",
       "      <td>NaN</td>\n",
       "    </tr>\n",
       "    <tr>\n",
       "      <th>1</th>\n",
       "      <td>Ursus arctos</td>\n",
       "      <td>203.500</td>\n",
       "      <td>NaN</td>\n",
       "      <td>NaN</td>\n",
       "    </tr>\n",
       "    <tr>\n",
       "      <th>2</th>\n",
       "      <td>Ursus thibetanus</td>\n",
       "      <td>99.714</td>\n",
       "      <td>NaN</td>\n",
       "      <td>NaN</td>\n",
       "    </tr>\n",
       "    <tr>\n",
       "      <th>3</th>\n",
       "      <td>Melursus ursinus</td>\n",
       "      <td>100.030</td>\n",
       "      <td>NaN</td>\n",
       "      <td>NaN</td>\n",
       "    </tr>\n",
       "    <tr>\n",
       "      <th>4</th>\n",
       "      <td>Ursus americanus</td>\n",
       "      <td>110.560</td>\n",
       "      <td>NaN</td>\n",
       "      <td>NaN</td>\n",
       "    </tr>\n",
       "    <tr>\n",
       "      <th>5</th>\n",
       "      <td>Helarctos malayanus</td>\n",
       "      <td>47.020</td>\n",
       "      <td>NaN</td>\n",
       "      <td>NaN</td>\n",
       "    </tr>\n",
       "    <tr>\n",
       "      <th>6</th>\n",
       "      <td>Ailuropoda melanoleuca</td>\n",
       "      <td>118.200</td>\n",
       "      <td>NaN</td>\n",
       "      <td>NaN</td>\n",
       "    </tr>\n",
       "    <tr>\n",
       "      <th>7</th>\n",
       "      <td>Tremarctos ornatus</td>\n",
       "      <td>140.700</td>\n",
       "      <td>NaN</td>\n",
       "      <td>NaN</td>\n",
       "    </tr>\n",
       "    <tr>\n",
       "      <th>8</th>\n",
       "      <td>Ursus maritimus</td>\n",
       "      <td>425.100</td>\n",
       "      <td>NaN</td>\n",
       "      <td>NaN</td>\n",
       "    </tr>\n",
       "  </tbody>\n",
       "</table>\n",
       "</div>"
      ],
      "text/plain": [
       "                  species     mass Molecular_Weight GC_Content\n",
       "0          Ursus spelaeus  550.800              NaN        NaN\n",
       "1            Ursus arctos  203.500              NaN        NaN\n",
       "2        Ursus thibetanus   99.714              NaN        NaN\n",
       "3        Melursus ursinus  100.030              NaN        NaN\n",
       "4        Ursus americanus  110.560              NaN        NaN\n",
       "5     Helarctos malayanus   47.020              NaN        NaN\n",
       "6  Ailuropoda melanoleuca  118.200              NaN        NaN\n",
       "7      Tremarctos ornatus  140.700              NaN        NaN\n",
       "8         Ursus maritimus  425.100              NaN        NaN"
      ]
     },
     "execution_count": 42,
     "metadata": {},
     "output_type": "execute_result"
    }
   ],
   "source": [
    "bears_df"
   ]
  },
  {
   "cell_type": "markdown",
   "metadata": {},
   "source": [
    "#### **Step #7**"
   ]
  },
  {
   "cell_type": "code",
   "execution_count": 45,
   "metadata": {},
   "outputs": [
    {
     "data": {
      "text/html": [
       "<div>\n",
       "<style scoped>\n",
       "    .dataframe tbody tr th:only-of-type {\n",
       "        vertical-align: middle;\n",
       "    }\n",
       "\n",
       "    .dataframe tbody tr th {\n",
       "        vertical-align: top;\n",
       "    }\n",
       "\n",
       "    .dataframe thead th {\n",
       "        text-align: right;\n",
       "    }\n",
       "</style>\n",
       "<table border=\"1\" class=\"dataframe\">\n",
       "  <thead>\n",
       "    <tr style=\"text-align: right;\">\n",
       "      <th></th>\n",
       "      <th>species</th>\n",
       "      <th>mass</th>\n",
       "      <th>Molecular_Weight</th>\n",
       "      <th>GC_Content</th>\n",
       "    </tr>\n",
       "  </thead>\n",
       "  <tbody>\n",
       "    <tr>\n",
       "      <th>0</th>\n",
       "      <td>Ursus spelaeus</td>\n",
       "      <td>550.800</td>\n",
       "      <td>42458.8</td>\n",
       "      <td>0.437719</td>\n",
       "    </tr>\n",
       "    <tr>\n",
       "      <th>1</th>\n",
       "      <td>Ursus arctos</td>\n",
       "      <td>203.500</td>\n",
       "      <td>42414.7</td>\n",
       "      <td>0.437719</td>\n",
       "    </tr>\n",
       "    <tr>\n",
       "      <th>2</th>\n",
       "      <td>Ursus thibetanus</td>\n",
       "      <td>99.714</td>\n",
       "      <td>42306.7</td>\n",
       "      <td>0.45614</td>\n",
       "    </tr>\n",
       "    <tr>\n",
       "      <th>3</th>\n",
       "      <td>Melursus ursinus</td>\n",
       "      <td>100.030</td>\n",
       "      <td>42552</td>\n",
       "      <td>0.451754</td>\n",
       "    </tr>\n",
       "    <tr>\n",
       "      <th>4</th>\n",
       "      <td>Ursus americanus</td>\n",
       "      <td>110.560</td>\n",
       "      <td>42427.7</td>\n",
       "      <td>0.439474</td>\n",
       "    </tr>\n",
       "    <tr>\n",
       "      <th>5</th>\n",
       "      <td>Helarctos malayanus</td>\n",
       "      <td>47.020</td>\n",
       "      <td>42560.9</td>\n",
       "      <td>0.442982</td>\n",
       "    </tr>\n",
       "    <tr>\n",
       "      <th>6</th>\n",
       "      <td>Ailuropoda melanoleuca</td>\n",
       "      <td>118.200</td>\n",
       "      <td>42702.2</td>\n",
       "      <td>0.407895</td>\n",
       "    </tr>\n",
       "    <tr>\n",
       "      <th>7</th>\n",
       "      <td>Tremarctos ornatus</td>\n",
       "      <td>140.700</td>\n",
       "      <td>42384.8</td>\n",
       "      <td>0.44386</td>\n",
       "    </tr>\n",
       "    <tr>\n",
       "      <th>8</th>\n",
       "      <td>Ursus maritimus</td>\n",
       "      <td>425.100</td>\n",
       "      <td>42454.8</td>\n",
       "      <td>0.442982</td>\n",
       "    </tr>\n",
       "  </tbody>\n",
       "</table>\n",
       "</div>"
      ],
      "text/plain": [
       "                  species     mass Molecular_Weight GC_Content\n",
       "0          Ursus spelaeus  550.800          42458.8   0.437719\n",
       "1            Ursus arctos  203.500          42414.7   0.437719\n",
       "2        Ursus thibetanus   99.714          42306.7    0.45614\n",
       "3        Melursus ursinus  100.030            42552   0.451754\n",
       "4        Ursus americanus  110.560          42427.7   0.439474\n",
       "5     Helarctos malayanus   47.020          42560.9   0.442982\n",
       "6  Ailuropoda melanoleuca  118.200          42702.2   0.407895\n",
       "7      Tremarctos ornatus  140.700          42384.8    0.44386\n",
       "8         Ursus maritimus  425.100          42454.8   0.442982"
      ]
     },
     "execution_count": 45,
     "metadata": {},
     "output_type": "execute_result"
    }
   ],
   "source": [
    "for key, value in cytb_seqs.items():                                                              #(1) Initializes a for-loop over the keys and values contained in the dictionary 'cytb_seqs'.\n",
    "    aa_seq = alt_translator(value)                                                                #(2) Uses Function #3 to translate the nucleotide sequence contained in a dictionary 'value' into an amino acid sequence (as a string of single-letter codes) named 'aa_seq'.\n",
    "    bears_df.loc[bears_df.species == key, 'Molecular_Weight'] = compute_molecular_weight(aa_seq)  #(3) Uses the 'key' (species name) for the 'value' from (2) to locate the cell in the 'bears_df' DataFrame corresponding to this species and its 'Molecular_Weight', then calculates the molecular weight of 'aa_seq' using Function #4 and records the result in that cell.\n",
    "    bears_df.loc[bears_df.species == key, 'GC_Content'] = gc_content(value)                       #(4) Locates the cell in the 'bears_df' DataFrame corresponding to this species ('key') and 'GC_Content', then calculates the GC content of the original nucleotide sequence ('value') using Function #5 and records the result in that cell.\n",
    "bears_df                                                                                          #(5) Returns the 'bears_df' DataFrame with the calculated values recorded in the 'Molecular_Weight' and 'GC_Content' columns."
   ]
  },
  {
   "cell_type": "markdown",
   "metadata": {},
   "source": [
    "#### **Step #8**"
   ]
  },
  {
   "cell_type": "code",
   "execution_count": 46,
   "metadata": {},
   "outputs": [],
   "source": [
    "species_mass = bears_df.set_index('species').mass  # Sets the species names as the row indices in 'bears_df', then pulls out the 'mass' column and saves it as the pandas series 'species_mass'."
   ]
  },
  {
   "cell_type": "code",
   "execution_count": 51,
   "metadata": {},
   "outputs": [
    {
     "data": {
      "text/plain": [
       "Text(0.5,0,'Species')"
      ]
     },
     "execution_count": 51,
     "metadata": {},
     "output_type": "execute_result"
    },
    {
     "data": {
      "image/png": "[encoded data removed]",
      "text/plain": [
       "<Figure size 432x288 with 1 Axes>"
      ]
     },
     "metadata": {
      "needs_background": "light"
     },
     "output_type": "display_data"
    }
   ],
   "source": [
    "mass_plot = species_mass.plot(kind='bar',title='Species Mass', color='brown')  #(1) Creates a bar graph out of the 'species_mass' series with the title 'Species Mass', and saves it under the figure variable 'mass_plot'.\n",
    "mass_plot.set_ylabel(\"Mass\")                                                   #(2) Labels the y-axis on the bar chart as 'Mass'.\n",
    "mass_plot.set_xlabel(\"Species\")                                                #(3) Labels the x-axis on the bar chart as 'Species'."
   ]
  },
  {
   "cell_type": "markdown",
   "metadata": {},
   "source": [
    "##### **Q1. What is the largest bear species?**\n",
    "##### The largest bear species is Ursus spelaeus.\n",
    "\n",
    "##### **Q2. What else is interesting about this species?**\n",
    "##### They are believed to have (at least partly) lived in caves -- and not merely using them for hibernation as brown bears do.  (https://en.wikipedia.org/wiki/Cave_bear)"
   ]
  },
  {
   "cell_type": "markdown",
   "metadata": {},
   "source": [
    "#### **Step #9**"
   ]
  },
  {
   "cell_type": "code",
   "execution_count": 18,
   "metadata": {},
   "outputs": [
    {
     "data": {
      "text/plain": [
       "<seaborn.axisgrid.FacetGrid at 0x254b8dc1748>"
      ]
     },
     "execution_count": 18,
     "metadata": {},
     "output_type": "execute_result"
    },
    {
     "data": {
      "image/png": "[encoded data removed]",
      "text/plain": [
       "<Figure size 697.125x432 with 1 Axes>"
      ]
     },
     "metadata": {
      "needs_background": "light"
     },
     "output_type": "display_data"
    }
   ],
   "source": [
    "weight_gc = sns.lmplot('GC_Content', 'Molecular_Weight', data=bears_df, fit_reg=False, height=6, aspect=1.25, scatter_kws={\"s\": 100}, hue='species')  #(1) Creates a scatter plot showing the Molecular Weight as a function of the GC Content for each species in 'bears_df', with the points color-coded according to the species.\n",
    "weight_gc.set_axis_labels('GC Content of Coding Sequence', 'Molecular Weight of Peptide')                                                             #(2) Adds identifying labels to the x- and y-axes."
   ]
  },
  {
   "cell_type": "markdown",
   "metadata": {},
   "source": [
    "#### **Step #10**"
   ]
  },
  {
   "cell_type": "code",
   "execution_count": 19,
   "metadata": {},
   "outputs": [],
   "source": [
    "bears_df.to_csv('bears_mass_cytb.csv',index_label=False)  # Saves the expanded 'bears_df' DataFrame as a csv file named 'bears_mass_cytb.csv'."
   ]
  },
  {
   "cell_type": "markdown",
   "metadata": {},
   "source": [
    "### **Bonus**"
   ]
  },
  {
   "cell_type": "markdown",
   "metadata": {},
   "source": [
    "##### I Decided to look more closely at the degree of polymorphism present in the nucleotide sequences. First I identified all the positions where nucleotide differences were present among any of the sequences, and then I analyzed the rate and distribution of these differences over the length of the sequences:"
   ]
  },
  {
   "cell_type": "code",
   "execution_count": 20,
   "metadata": {},
   "outputs": [
    {
     "name": "stdout",
     "output_type": "stream",
     "text": [
      "[4, 20, 23, 27, 31, 32, 38, 41, 46, 51, 53, 59, 62, 66, 71, 77, 80, 83, 84, 86, 92, 98, 101, 107, 108, 110, 113, 114, 116, 119, 120, 122, 123, 125, 126, 128, 131, 134, 135, 137, 140, 144, 146, 149, 152, 155, 158, 164, 168, 173, 174, 176, 177, 179, 185, 188, 194, 195, 198, 200, 203, 206, 209, 215, 218, 219, 221, 224, 227, 231, 233, 242, 243, 248, 251, 254, 257, 260, 263, 266, 269, 272, 278, 279, 281, 284, 287, 293, 296, 299, 302, 303, 305, 308, 311, 314, 317, 324, 326, 327, 329, 332, 338, 341, 343, 344, 347, 350, 353, 360, 362, 366, 368, 377, 383, 386, 389, 392, 395, 398, 404, 413, 416, 419, 428, 431, 434, 437, 443, 446, 447, 452, 455, 458, 464, 467, 471, 473, 474, 479, 485, 488, 489, 497, 500, 503, 506, 509, 510, 512, 515, 518, 521, 524, 527, 533, 536, 539, 542, 551, 552, 554, 557, 560, 563, 566, 567, 568, 569, 570, 575, 576, 577, 578, 579, 580, 581, 584, 587, 593, 596, 599, 602, 611, 614, 617, 620, 626, 632, 633, 638, 639, 642, 644, 656, 659, 660, 662, 665, 668, 669, 680, 683, 684, 685, 686, 687, 694, 696, 698, 699, 702, 704, 705, 706, 707, 710, 711, 713, 714, 716, 717, 718, 720, 722, 725, 727, 728, 729, 737, 740, 744, 746, 747, 749, 755, 758, 761, 767, 769, 773, 779, 783, 785, 788, 791, 794, 796, 797, 800, 803, 806, 809, 812, 815, 818, 821, 822, 830, 836, 839, 840, 842, 845, 847, 848, 851, 854, 857, 861, 863, 869, 872, 875, 878, 882, 884, 890, 893, 899, 903, 905, 906, 908, 911, 912, 914, 917, 918, 920, 923, 926, 932, 939, 941, 944, 947, 953, 956, 957, 959, 962, 969, 971, 974, 977, 980, 985, 993, 998, 1004, 1013, 1019, 1022, 1028, 1032, 1034, 1037, 1038, 1040, 1041, 1042, 1043, 1045, 1046, 1049, 1052, 1055, 1056, 1058, 1064, 1067, 1073, 1076, 1078, 1082, 1083, 1084, 1085, 1088, 1091, 1092, 1094, 1097, 1100, 1104, 1106, 1107, 1109, 1112, 1118, 1121, 1123, 1124, 1129, 1133, 1136]\n"
     ]
    }
   ],
   "source": [
    "poly_site = []                                         #(1) Initializes a blank list that will be populated with the positions of any nucleotide polymorphisms.\n",
    "for i in range(len(cytb_seqs[species_list[0]])):       #(2) Initializes a for-loop over the index of the nucleotides present in the first sequence (which is the same number of nucleotides for all the sequences considered).\n",
    "    count = 0                                          #(3) Initializes a counter to capture any nucleotide differences found between two sequences at a given index.\n",
    "    for j in range(9):                                 #(4) Initializes a for-loop over the number of species (sequences) being compared.\n",
    "        seq_j = cytb_seqs[species_list[j]]             #(5) Recalls the jth sequence ('Seq' object) from the 'cytb_seqs' dictionary and names it 'seq_j'.\n",
    "        if cytb_seqs[species_list[0]][i] != seq_j[i]:  #(6) For a given index i, checks to see if the ith value of 'seq_j' is different from the ith value in the first sequence, and if so increases the 'count' by 1.\n",
    "            count += 1\n",
    "    if count > 0:                                      #(7) The 'count' will stay equal to 0 if and only if every sequence has an identical value at the ith position. Otherwise, the index i will be added to the 'poly_site' list.\n",
    "        poly_site.append(i) \n",
    "print(poly_site)                                       #(8) Returns the list of all sequence positions where a polymorphism occurs in one or more species."
   ]
  },
  {
   "cell_type": "code",
   "execution_count": 65,
   "metadata": {},
   "outputs": [
    {
     "data": {
      "text/plain": [
       "0.3131578947368421"
      ]
     },
     "execution_count": 65,
     "metadata": {},
     "output_type": "execute_result"
    }
   ],
   "source": [
    "len(poly_site) / len(cytb_seqs[species_list[0]]) # Calculates the ratio of positions in the nucleotide sequences that show some degree of polymorphism across species."
   ]
  },
  {
   "cell_type": "code",
   "execution_count": 67,
   "metadata": {},
   "outputs": [
    {
     "data": {
      "text/plain": [
       "[Text(0,0.5,'Number of Nucleotide Differences (out of 30)'),\n",
       " Text(0.5,0,'Position Along Nucleotide Sequence (Length = 1140)')]"
      ]
     },
     "execution_count": 67,
     "metadata": {},
     "output_type": "execute_result"
    },
    {
     "data": {
      "image/png": "[encoded data removed]",
      "text/plain": [
       "<Figure size 1152x648 with 1 Axes>"
      ]
     },
     "metadata": {
      "needs_background": "light"
     },
     "output_type": "display_data"
    }
   ],
   "source": [
    "plot_dims = (16, 9)                                                                                                         #(1) Defines the size dimensions for the histogram.\n",
    "fig, ax = plt.subplots(figsize=plot_dims)                                                                                   #(2) Sets the dimensions for the plotted object to those specified in (1).\n",
    "sns.distplot(poly_site, kde=False, color='b', hist_kws=dict(edgecolor=\"k\", linewidth=1), bins=38)                           #(3) Creates a histogram of the nucleotide differences occurring along the sequence, with each box representing 30 nucleotides.\n",
    "ax.set(ylabel='Number of Nucleotide Differences (out of 30)', xlabel='Position Along Nucleotide Sequence (Length = 1140)')  #(4) Adds identifying labels to the x- and y-axes."
   ]
  },
  {
   "cell_type": "markdown",
   "metadata": {},
   "source": [
    "##### Next I generated a table showing which nucleotide is present in each species at each of the polymorphism locations identified above:"
   ]
  },
  {
   "cell_type": "code",
   "execution_count": 68,
   "metadata": {},
   "outputs": [
    {
     "name": "stdout",
     "output_type": "stream",
     "text": [
      "[['C', 'C', 'T', 'T', 'C', 'T', 'C', 'C', 'A', 'T', 'T', 'C', 'C', 'A', 'A', 'C', 'C', 'A', 'G', 'A', 'A', 'T', 'A', 'C', 'C', 'C', 'A', 'G', 'A', 'C', 'T', 'A', 'A', 'T', 'C', 'A', 'G', 'C', 'C', 'A', 'A', 'C', 'G', 'T', 'A', 'T', 'A', 'C', 'T', 'C', 'A', 'A', 'A', 'C', 'C', 'T', 'A', 'A', 'A', 'C', 'T', 'T', 'C', 'C', 'T', 'C', 'C', 'C', 'T', 'G', 'T', 'T', 'A', 'T', 'A', 'C', 'A', 'C', 'C', 'A', 'C', 'T', 'T', 'C', 'A', 'C', 'G', 'A', 'A', 'G', 'C', 'C', 'A', 'C', 'T', 'C', 'A', 'T', 'C', 'T', 'A', 'A', 'A', 'C', 'T', 'T', 'C', 'T', 'T', 'C', 'T', 'G', 'C', 'C', 'C', 'A', 'A', 'T', 'C', 'A', 'A', 'G', 'C', 'C', 'A', 'T', 'C', 'T', 'C', 'A', 'C', 'G', 'C', 'T', 'T', 'C', 'A', 'G', 'G', 'A', 'A', 'A', 'A', 'A', 'C', 'T', 'C', 'A', 'G', 'T', 'G', 'A', 'T', 'A', 'A', 'C', 'T', 'C', 'C', 'C', 'C', 'C', 'G', 'C', 'C', 'C', 'T', 'T', 'A', 'G', 'A', 'G', 'C', 'A', 'G', 'C', 'A', 'C', 'T', 'G', 'T', 'A', 'C', 'A', 'C', 'C', 'C', 'T', 'C', 'C', 'T', 'G', 'T', 'A', 'A', 'T', 'C', 'C', 'A', 'C', 'T', 'G', 'C', 'A', 'T', 'T', 'C', 'C', 'C', 'G', 'C', 'C', 'C', 'A', 'C', 'T', 'A', 'G', 'T', 'T', 'A', 'G', 'C', 'G', 'T', 'A', 'T', 'C', 'C', 'G', 'T', 'T', 'A', 'C', 'A', 'C', 'T', 'C', 'T', 'C', 'C', 'C', 'C', 'G', 'T', 'C', 'A', 'C', 'C', 'C', 'C', 'A', 'C', 'G', 'G', 'C', 'T', 'C', 'C', 'T', 'C', 'C', 'A', 'A', 'T', 'T', 'C', 'T', 'C', 'C', 'A', 'A', 'A', 'A', 'A', 'A', 'C', 'C', 'T', 'C', 'G', 'T', 'A', 'C', 'T', 'T', 'T', 'T', 'C', 'A', 'C', 'A', 'A', 'G', 'A', 'G', 'A', 'G', 'T', 'C', 'A', 'C', 'C', 'A', 'C', 'A', 'C', 'T', 'C', 'A', 'A', 'T', 'A', 'A', 'A', 'C', 'C', 'C', 'T', 'C', 'A', 'T', 'T', 'T', 'T', 'C', 'A', 'G', 'C', 'A', 'C', 'T', 'C', 'T', 'C', 'C', 'C', 'C', 'C', 'A', 'A', 'C', 'C', 'A', 'C', 'G', 'T', 'G', 'A', 'T', 'A', 'C', 'A', 'C', 'T', 'G', 'A'], ['C', 'C', 'C', 'T', 'C', 'T', 'C', 'C', 'A', 'C', 'T', 'C', 'T', 'A', 'A', 'C', 'C', 'A', 'G', 'A', 'A', 'T', 'A', 'C', 'C', 'T', 'A', 'G', 'A', 'T', 'T', 'A', 'A', 'T', 'C', 'A', 'G', 'T', 'C', 'A', 'A', 'C', 'G', 'C', 'A', 'C', 'A', 'T', 'C', 'C', 'A', 'A', 'A', 'C', 'T', 'T', 'G', 'G', 'A', 'C', 'C', 'T', 'C', 'C', 'C', 'C', 'C', 'C', 'A', 'G', 'T', 'T', 'G', 'T', 'A', 'T', 'A', 'C', 'C', 'C', 'C', 'T', 'C', 'C', 'A', 'T', 'G', 'A', 'A', 'G', 'C', 'C', 'G', 'C', 'T', 'C', 'A', 'T', 'C', 'T', 'A', 'A', 'A', 'C', 'T', 'T', 'C', 'T', 'T', 'T', 'T', 'A', 'T', 'C', 'T', 'A', 'A', 'C', 'C', 'A', 'G', 'G', 'C', 'C', 'G', 'T', 'C', 'C', 'T', 'A', 'C', 'G', 'C', 'T', 'C', 'C', 'A', 'G', 'G', 'G', 'A', 'A', 'A', 'G', 'C', 'T', 'C', 'A', 'G', 'T', 'A', 'G', 'C', 'A', 'A', 'C', 'T', 'T', 'C', 'T', 'C', 'C', 'G', 'C', 'C', 'C', 'C', 'T', 'A', 'G', 'A', 'G', 'C', 'A', 'G', 'C', 'A', 'C', 'T', 'G', 'C', 'A', 'C', 'A', 'T', 'C', 'C', 'T', 'C', 'C', 'T', 'G', 'T', 'A', 'C', 'C', 'C', 'T', 'A', 'C', 'T', 'A', 'T', 'A', 'T', 'T', 'C', 'C', 'C', 'A', 'C', 'C', 'C', 'G', 'C', 'C', 'A', 'A', 'C', 'T', 'A', 'G', 'C', 'A', 'C', 'A', 'T', 'C', 'C', 'G', 'C', 'T', 'A', 'C', 'A', 'C', 'T', 'T', 'T', 'C', 'C', 'T', 'C', 'G', 'C', 'T', 'A', 'C', 'C', 'C', 'C', 'A', 'C', 'A', 'G', 'C', 'T', 'C', 'C', 'T', 'C', 'C', 'A', 'A', 'C', 'T', 'C', 'T', 'T', 'C', 'A', 'A', 'A', 'A', 'A', 'A', 'T', 'C', 'T', 'C', 'G', 'C', 'A', 'C', 'T', 'C', 'T', 'T', 'C', 'A', 'C', 'G', 'A', 'G', 'A', 'G', 'A', 'A', 'C', 'C', 'A', 'C', 'C', 'A', 'T', 'A', 'T', 'T', 'C', 'A', 'A', 'T', 'A', 'A', 'A', 'C', 'T', 'C', 'T', 'C', 'A', 'T', 'T', 'T', 'T', 'C', 'A', 'A', 'C', 'A', 'C', 'T', 'C', 'T', 'C', 'C', 'C', 'T', 'C', 'A', 'A', 'C', 'T', 'A', 'T', 'G', 'T', 'G', 'A', 'T', 'A', 'T', 'A', 'C', 'T', 'G', 'G'], ['C', 'C', 'T', 'T', 'C', 'C', 'C', 'C', 'A', 'C', 'C', 'T', 'C', 'G', 'A', 'T', 'C', 'A', 'G', 'A', 'A', 'T', 'A', 'C', 'C', 'C', 'A', 'A', 'A', 'C', 'C', 'A', 'A', 'C', 'C', 'A', 'G', 'T', 'C', 'G', 'A', 'C', 'A', 'T', 'A', 'T', 'A', 'C', 'T', 'C', 'G', 'G', 'A', 'T', 'C', 'T', 'A', 'G', 'G', 'C', 'T', 'T', 'C', 'C', 'C', 'C', 'T', 'C', 'A', 'A', 'T', 'C', 'A', 'T', 'A', 'C', 'A', 'C', 'C', 'G', 'C', 'C', 'C', 'C', 'A', 'C', 'A', 'A', 'A', 'G', 'C', 'T', 'G', 'T', 'T', 'C', 'A', 'C', 'C', 'T', 'A', 'A', 'A', 'C', 'T', 'T', 'C', 'C', 'C', 'T', 'T', 'G', 'T', 'C', 'C', 'A', 'A', 'T', 'C', 'A', 'A', 'A', 'T', 'C', 'G', 'T', 'C', 'T', 'C', 'C', 'C', 'A', 'C', 'T', 'T', 'T', 'A', 'G', 'G', 'A', 'G', 'A', 'A', 'G', 'C', 'T', 'C', 'A', 'G', 'T', 'A', 'A', 'C', 'A', 'A', 'C', 'T', 'T', 'C', 'C', 'C', 'T', 'A', 'T', 'C', 'C', 'C', 'T', 'A', 'G', 'A', 'G', 'C', 'A', 'G', 'C', 'A', 'T', 'T', 'G', 'C', 'A', 'C', 'A', 'C', 'C', 'C', 'T', 'C', 'C', 'C', 'G', 'T', 'G', 'A', 'C', 'C', 'C', 'A', 'C', 'T', 'G', 'C', 'G', 'C', 'C', 'C', 'C', 'C', 'A', 'C', 'C', 'C', 'A', 'T', 'T', 'A', 'G', 'C', 'C', 'A', 'G', 'C', 'A', 'T', 'A', 'T', 'T', 'C', 'G', 'C', 'T', 'A', 'C', 'G', 'C', 'T', 'C', 'T', 'C', 'C', 'C', 'C', 'G', 'C', 'C', 'G', 'C', 'C', 'C', 'C', 'G', 'T', 'G', 'A', 'C', 'T', 'T', 'T', 'C', 'C', 'T', 'A', 'A', 'C', 'C', 'C', 'C', 'C', 'C', 'A', 'A', 'A', 'A', 'G', 'A', 'C', 'T', 'C', 'C', 'G', 'C', 'A', 'T', 'C', 'C', 'C', 'T', 'C', 'A', 'C', 'A', 'A', 'G', 'A', 'A', 'G', 'A', 'C', 'C', 'A', 'C', 'C', 'A', 'T', 'A', 'C', 'T', 'C', 'A', 'A', 'C', 'A', 'A', 'A', 'C', 'T', 'C', 'T', 'C', 'A', 'T', 'C', 'T', 'T', 'C', 'A', 'G', 'C', 'A', 'C', 'C', 'C', 'C', 'C', 'C', 'C', 'T', 'C', 'G', 'G', 'C', 'C', 'G', 'C', 'G', 'T', 'G', 'A', 'C', 'A', 'C', 'A', 'C', 'C', 'A', 'A'], ['C', 'C', 'C', 'T', 'C', 'T', 'C', 'T', 'A', 'C', 'C', 'C', 'C', 'G', 'G', 'C', 'C', 'A', 'G', 'A', 'A', 'C', 'A', 'C', 'C', 'C', 'A', 'G', 'G', 'C', 'T', 'A', 'A', 'T', 'C', 'A', 'A', 'T', 'C', 'A', 'A', 'C', 'A', 'T', 'A', 'C', 'G', 'T', 'T', 'C', 'A', 'A', 'A', 'C', 'C', 'T', 'A', 'G', 'A', 'C', 'T', 'C', 'T', 'C', 'C', 'C', 'C', 'C', 'A', 'A', 'C', 'T', 'A', 'T', 'A', 'C', 'G', 'C', 'C', 'A', 'C', 'T', 'C', 'C', 'A', 'C', 'G', 'A', 'A', 'G', 'T', 'C', 'G', 'C', 'T', 'C', 'A', 'T', 'C', 'T', 'G', 'G', 'A', 'C', 'C', 'C', 'C', 'T', 'T', 'T', 'T', 'G', 'C', 'C', 'C', 'A', 'A', 'C', 'C', 'A', 'A', 'G', 'C', 'C', 'A', 'T', 'C', 'C', 'T', 'G', 'C', 'G', 'C', 'T', 'T', 'T', 'G', 'G', 'G', 'A', 'A', 'A', 'A', 'G', 'G', 'T', 'C', 'A', 'G', 'C', 'G', 'G', 'T', 'A', 'A', 'C', 'T', 'C', 'C', 'C', 'T', 'T', 'A', 'T', 'C', 'C', 'C', 'T', 'A', 'G', 'G', 'G', 'T', 'A', 'A', 'T', 'A', 'C', 'C', 'G', 'C', 'A', 'T', 'A', 'T', 'C', 'C', 'T', 'C', 'C', 'C', 'A', 'T', 'A', 'A', 'T', 'C', 'C', 'A', 'T', 'T', 'A', 'T', 'A', 'T', 'T', 'A', 'C', 'T', 'A', 'C', 'C', 'C', 'A', 'T', 'C', 'A', 'G', 'C', 'C', 'G', 'G', 'C', 'A', 'C', 'A', 'T', 'C', 'C', 'A', 'C', 'T', 'A', 'C', 'A', 'C', 'C', 'C', 'C', 'C', 'T', 'C', 'C', 'G', 'C', 'C', 'A', 'C', 'C', 'C', 'C', 'A', 'C', 'G', 'G', 'C', 'T', 'C', 'C', 'T', 'C', 'C', 'A', 'A', 'C', 'C', 'C', 'C', 'T', 'C', 'A', 'G', 'A', 'A', 'A', 'A', 'T', 'C', 'C', 'C', 'G', 'T', 'A', 'C', 'T', 'C', 'C', 'T', 'C', 'A', 'C', 'A', 'A', 'G', 'A', 'G', 'A', 'G', 'C', 'C', 'A', 'C', 'C', 'A', 'T', 'A', 'C', 'T', 'C', 'A', 'T', 'C', 'A', 'A', 'A', 'T', 'T', 'C', 'T', 'C', 'A', 'T', 'C', 'C', 'T', 'T', 'A', 'A', 'C', 'A', 'C', 'C', 'C', 'C', 'T', 'C', 'C', 'T', 'C', 'A', 'A', 'C', 'C', 'G', 'C', 'G', 'C', 'G', 'A', 'C', 'A', 'T', 'A', 'T', 'C', 'G', 'A'], ['C', 'C', 'C', 'T', 'C', 'T', 'C', 'C', 'A', 'C', 'T', 'T', 'C', 'A', 'A', 'T', 'C', 'A', 'G', 'A', 'A', 'C', 'A', 'C', 'C', 'C', 'A', 'G', 'A', 'T', 'T', 'A', 'G', 'A', 'C', 'A', 'A', 'T', 'C', 'A', 'G', 'C', 'A', 'T', 'A', 'C', 'A', 'C', 'T', 'T', 'A', 'A', 'A', 'T', 'C', 'T', 'A', 'A', 'A', 'C', 'T', 'T', 'C', 'T', 'T', 'C', 'C', 'C', 'A', 'A', 'T', 'C', 'A', 'T', 'T', 'C', 'A', 'T', 'C', 'G', 'C', 'T', 'T', 'C', 'G', 'C', 'G', 'A', 'A', 'G', 'T', 'C', 'G', 'C', 'T', 'C', 'A', 'C', 'C', 'T', 'A', 'A', 'A', 'C', 'T', 'T', 'C', 'T', 'C', 'T', 'T', 'G', 'T', 'C', 'C', 'A', 'A', 'T', 'C', 'G', 'A', 'A', 'C', 'C', 'A', 'T', 'T', 'C', 'C', 'C', 'C', 'A', 'C', 'C', 'T', 'T', 'A', 'A', 'G', 'A', 'A', 'G', 'A', 'G', 'C', 'T', 'T', 'G', 'A', 'T', 'G', 'A', 'T', 'G', 'A', 'C', 'T', 'C', 'C', 'T', 'C', 'T', 'A', 'C', 'C', 'C', 'T', 'T', 'G', 'A', 'A', 'G', 'C', 'A', 'G', 'C', 'A', 'C', 'C', 'A', 'C', 'A', 'C', 'A', 'T', 'T', 'C', 'T', 'C', 'C', 'T', 'G', 'T', 'A', 'A', 'T', 'C', 'T', 'A', 'T', 'T', 'A', 'C', 'G', 'C', 'C', 'C', 'C', 'C', 'A', 'C', 'T', 'C', 'A', 'T', 'C', 'A', 'G', 'C', 'C', 'A', 'G', 'C', 'A', 'T', 'A', 'T', 'C', 'C', 'G', 'T', 'C', 'A', 'C', 'A', 'T', 'C', 'T', 'C', 'C', 'C', 'C', 'C', 'G', 'C', 'C', 'A', 'C', 'C', 'C', 'C', 'A', 'T', 'A', 'A', 'T', 'T', 'C', 'C', 'T', 'T', 'C', 'A', 'G', 'C', 'C', 'C', 'C', 'C', 'C', 'A', 'A', 'G', 'A', 'A', 'A', 'T', 'T', 'C', 'C', 'G', 'T', 'A', 'T', 'C', 'C', 'C', 'T', 'C', 'A', 'C', 'A', 'G', 'G', 'A', 'A', 'G', 'A', 'C', 'C', 'A', 'C', 'C', 'A', 'C', 'A', 'T', 'T', 'C', 'A', 'A', 'C', 'G', 'A', 'A', 'C', 'C', 'C', 'T', 'T', 'A', 'T', 'C', 'T', 'T', 'C', 'C', 'G', 'T', 'G', 'T', 'C', 'C', 'C', 'C', 'C', 'C', 'T', 'C', 'A', 'G', 'C', 'C', 'G', 'T', 'G', 'T', 'G', 'G', 'C', 'A', 'T', 'A', 'C', 'C', 'A', 'A'], ['C', 'C', 'C', 'T', 'C', 'T', 'C', 'T', 'A', 'C', 'T', 'C', 'C', 'G', 'A', 'C', 'C', 'G', 'G', 'G', 'A', 'C', 'A', 'C', 'C', 'C', 'A', 'G', 'A', 'C', 'T', 'A', 'A', 'C', 'C', 'A', 'G', 'T', 'A', 'G', 'A', 'C', 'A', 'T', 'A', 'C', 'A', 'T', 'T', 'C', 'A', 'A', 'A', 'C', 'C', 'T', 'A', 'A', 'A', 'T', 'T', 'C', 'C', 'C', 'T', 'C', 'C', 'C', 'A', 'A', 'T', 'T', 'A', 'T', 'A', 'C', 'A', 'C', 'C', 'G', 'C', 'T', 'C', 'C', 'A', 'C', 'G', 'A', 'A', 'G', 'T', 'C', 'G', 'C', 'T', 'C', 'G', 'T', 'C', 'T', 'A', 'A', 'A', 'C', 'T', 'C', 'T', 'T', 'C', 'T', 'T', 'G', 'T', 'C', 'T', 'A', 'A', 'C', 'C', 'A', 'A', 'G', 'C', 'C', 'A', 'T', 'C', 'T', 'T', 'C', 'T', 'A', 'C', 'C', 'T', 'T', 'A', 'G', 'G', 'A', 'A', 'A', 'G', 'A', 'C', 'T', 'C', 'A', 'G', 'C', 'G', 'G', 'T', 'A', 'A', 'C', 'T', 'C', 'C', 'C', 'C', 'T', 'G', 'C', 'C', 'C', 'T', 'T', 'G', 'G', 'A', 'A', 'C', 'A', 'G', 'C', 'G', 'C', 'C', 'A', 'C', 'A', 'C', 'G', 'C', 'C', 'T', 'T', 'C', 'C', 'T', 'G', 'T', 'A', 'A', 'T', 'C', 'C', 'G', 'C', 'T', 'G', 'C', 'A', 'T', 'C', 'C', 'C', 'C', 'A', 'C', 'C', 'T', 'A', 'C', 'C', 'A', 'G', 'C', 'C', 'A', 'A', 'C', 'A', 'C', 'A', 'T', 'T', 'C', 'G', 'C', 'T', 'A', 'C', 'A', 'C', 'T', 'C', 'C', 'T', 'C', 'T', 'T', 'G', 'C', 'C', 'A', 'C', 'C', 'C', 'C', 'A', 'C', 'A', 'G', 'C', 'T', 'C', 'C', 'T', 'C', 'C', 'A', 'A', 'C', 'C', 'C', 'T', 'T', 'C', 'A', 'A', 'A', 'A', 'T', 'G', 'C', 'T', 'C', 'C', 'G', 'C', 'A', 'T', 'C', 'C', 'C', 'C', 'T', 'A', 'C', 'A', 'G', 'G', 'A', 'G', 'A', 'A', 'T', 'C', 'G', 'C', 'C', 'A', 'T', 'A', 'C', 'T', 'C', 'A', 'A', 'T', 'A', 'A', 'A', 'C', 'T', 'C', 'T', 'T', 'A', 'C', 'C', 'T', 'T', 'C', 'A', 'A', 'C', 'A', 'C', 'T', 'T', 'C', 'T', 'C', 'T', 'T', 'C', 'A', 'A', 'T', 'C', 'A', 'C', 'G', 'T', 'G', 'A', 'T', 'A', 'T', 'A', 'C', 'C', 'A', 'A'], ['T', 'T', 'T', 'T', 'T', 'T', 'T', 'C', 'A', 'T', 'C', 'C', 'T', 'A', 'A', 'C', 'T', 'A', 'A', 'A', 'G', 'T', 'G', 'G', 'T', 'A', 'A', 'G', 'G', 'T', 'C', 'G', 'A', 'C', 'T', 'G', 'A', 'C', 'T', 'A', 'A', 'T', 'A', 'T', 'A', 'C', 'A', 'T', 'T', 'T', 'A', 'A', 'G', 'T', 'C', 'T', 'A', 'G', 'G', 'A', 'C', 'T', 'T', 'C', 'C', 'A', 'C', 'T', 'G', 'T', 'T', 'T', 'A', 'T', 'C', 'T', 'G', 'C', 'T', 'A', 'T', 'T', 'C', 'C', 'A', 'T', 'A', 'A', 'G', 'A', 'C', 'T', 'A', 'C', 'T', 'A', 'A', 'T', 'T', 'C', 'A', 'G', 'G', 'T', 'T', 'C', 'A', 'T', 'T', 'C', 'T', 'A', 'T', 'C', 'T', 'A', 'A', 'C', 'C', 'A', 'A', 'G', 'C', 'C', 'G', 'T', 'C', 'C', 'C', 'A', 'C', 'G', 'C', 'T', 'C', 'C', 'A', 'G', 'A', 'A', 'A', 'A', 'A', 'G', 'C', 'T', 'C', 'A', 'G', 'T', 'G', 'G', 'C', 'A', 'A', 'C', 'T', 'T', 'C', 'C', 'C', 'T', 'A', 'T', 'C', 'C', 'T', 'C', 'A', 'G', 'A', 'G', 'C', 'A', 'A', 'T', 'A', 'C', 'T', 'A', 'C', 'T', 'C', 'A', 'T', 'T', 'C', 'C', 'T', 'C', 'T', 'G', 'C', 'A', 'A', 'T', 'T', 'C', 'C', 'T', 'C', 'A', 'C', 'A', 'T', 'C', 'C', 'T', 'C', 'A', 'T', 'C', 'T', 'G', 'T', 'C', 'C', 'G', 'C', 'T', 'A', 'A', 'T', 'A', 'C', 'G', 'C', 'T', 'T', 'A', 'A', 'C', 'G', 'T', 'A', 'C', 'T', 'T', 'T', 'C', 'T', 'T', 'C', 'A', 'T', 'C', 'G', 'C', 'A', 'T', 'T', 'G', 'T', 'A', 'G', 'C', 'T', 'C', 'C', 'T', 'C', 'C', 'G', 'A', 'C', 'C', 'T', 'T', 'T', 'C', 'A', 'G', 'G', 'A', 'T', 'A', 'C', 'T', 'T', 'T', 'A', 'T', 'A', 'T', 'T', 'C', 'A', 'A', 'T', 'A', 'T', 'A', 'A', 'A', 'C', 'G', 'A', 'A', 'T', 'C', 'A', 'T', 'T', 'A', 'C', 'A', 'C', 'T', 'C', 'C', 'A', 'T', 'A', 'G', 'A', 'C', 'C', 'C', 'T', 'C', 'A', 'T', 'T', 'T', 'T', 'T', 'G', 'A', 'T', 'G', 'T', 'T', 'C', 'T', 'C', 'T', 'C', 'T', 'T', 'A', 'A', 'C', 'T', 'A', 'T', 'A', 'T', 'A', 'C', 'T', 'G', 'T', 'G', 'C', 'C', 'A', 'A'], ['C', 'T', 'C', 'C', 'C', 'T', 'C', 'C', 'G', 'T', 'C', 'C', 'C', 'A', 'A', 'T', 'C', 'A', 'G', 'G', 'A', 'C', 'G', 'T', 'C', 'T', 'G', 'G', 'G', 'C', 'C', 'G', 'A', 'C', 'C', 'A', 'C', 'C', 'C', 'A', 'G', 'C', 'A', 'C', 'G', 'C', 'A', 'T', 'G', 'C', 'A', 'G', 'A', 'T', 'C', 'C', 'A', 'G', 'G', 'C', 'T', 'C', 'T', 'C', 'T', 'A', 'C', 'C', 'A', 'G', 'T', 'C', 'A', 'C', 'G', 'C', 'A', 'T', 'A', 'A', 'C', 'T', 'C', 'T', 'G', 'C', 'A', 'G', 'A', 'G', 'T', 'C', 'G', 'T', 'C', 'C', 'A', 'T', 'C', 'T', 'A', 'A', 'A', 'C', 'T', 'T', 'A', 'T', 'T', 'C', 'C', 'A', 'T', 'A', 'C', 'G', 'G', 'C', 'G', 'G', 'A', 'A', 'C', 'T', 'A', 'C', 'C', 'C', 'T', 'G', 'C', 'A', 'T', 'C', 'C', 'T', 'A', 'C', 'G', 'A', 'A', 'A', 'A', 'T', 'A', 'C', 'A', 'A', 'G', 'T', 'A', 'A', 'C', 'T', 'C', 'T', 'C', 'T', 'T', 'C', 'C', 'T', 'A', 'C', 'T', 'T', 'T', 'T', 'A', 'G', 'A', 'G', 'C', 'C', 'A', 'T', 'A', 'C', 'C', 'A', 'T', 'T', 'C', 'A', 'C', 'C', 'T', 'T', 'C', 'T', 'G', 'A', 'T', 'A', 'A', 'T', 'C', 'C', 'T', 'C', 'T', 'A', 'T', 'A', 'T', 'T', 'C', 'T', 'T', 'A', 'C', 'C', 'T', 'C', 'T', 'C', 'A', 'G', 'C', 'C', 'G', 'G', 'T', 'A', 'C', 'A', 'T', 'C', 'C', 'A', 'C', 'T', 'A', 'C', 'A', 'C', 'C', 'C', 'C', 'C', 'T', 'C', 'G', 'G', 'C', 'C', 'A', 'T', 'A', 'T', 'C', 'G', 'T', 'A', 'G', 'C', 'C', 'T', 'C', 'C', 'T', 'C', 'A', 'A', 'C', 'T', 'T', 'C', 'T', 'T', 'G', 'A', 'A', 'G', 'C', 'A', 'C', 'C', 'T', 'C', 'G', 'T', 'A', 'C', 'T', 'C', 'T', 'G', 'C', 'G', 'C', 'A', 'A', 'G', 'A', 'G', 'A', 'A', 'T', 'T', 'A', 'C', 'C', 'T', 'C', 'G', 'T', 'C', 'T', 'A', 'A', 'C', 'A', 'A', 'G', 'C', 'T', 'T', 'C', 'T', 'G', 'T', 'T', 'T', 'C', 'C', 'A', 'G', 'C', 'A', 'T', 'C', 'C', 'C', 'C', 'C', 'C', 'T', 'C', 'A', 'A', 'C', 'T', 'A', 'C', 'G', 'C', 'G', 'A', 'C', 'A', 'T', 'A', 'C', 'C', 'G', 'A'], ['C', 'C', 'C', 'T', 'C', 'T', 'C', 'C', 'A', 'T', 'T', 'T', 'T', 'A', 'A', 'C', 'C', 'A', 'G', 'A', 'A', 'T', 'A', 'C', 'C', 'T', 'A', 'G', 'G', 'T', 'T', 'A', 'A', 'T', 'C', 'A', 'G', 'T', 'C', 'A', 'A', 'C', 'G', 'T', 'A', 'C', 'A', 'T', 'T', 'C', 'A', 'A', 'A', 'C', 'T', 'T', 'A', 'G', 'A', 'C', 'C', 'T', 'C', 'C', 'T', 'C', 'C', 'C', 'G', 'G', 'T', 'T', 'G', 'T', 'A', 'T', 'A', 'C', 'C', 'G', 'C', 'T', 'C', 'C', 'A', 'C', 'G', 'A', 'A', 'G', 'C', 'C', 'G', 'C', 'T', 'C', 'A', 'T', 'C', 'T', 'A', 'A', 'A', 'C', 'T', 'T', 'C', 'T', 'T', 'T', 'T', 'G', 'T', 'C', 'T', 'A', 'A', 'C', 'C', 'A', 'A', 'G', 'C', 'C', 'G', 'T', 'C', 'C', 'T', 'A', 'C', 'G', 'C', 'T', 'T', 'C', 'A', 'G', 'G', 'G', 'A', 'A', 'A', 'G', 'C', 'T', 'C', 'A', 'G', 'T', 'G', 'G', 'T', 'A', 'A', 'C', 'T', 'T', 'C', 'T', 'C', 'C', 'G', 'C', 'C', 'C', 'C', 'T', 'A', 'G', 'A', 'G', 'C', 'A', 'G', 'C', 'A', 'C', 'C', 'G', 'C', 'A', 'C', 'A', 'C', 'C', 'C', 'T', 'C', 'C', 'T', 'G', 'T', 'A', 'A', 'C', 'C', 'T', 'A', 'C', 'T', 'G', 'T', 'A', 'T', 'T', 'C', 'C', 'C', 'A', 'C', 'C', 'C', 'A', 'C', 'C', 'A', 'G', 'C', 'C', 'A', 'G', 'C', 'A', 'C', 'A', 'T', 'C', 'C', 'G', 'C', 'T', 'A', 'C', 'A', 'C', 'T', 'T', 'T', 'T', 'C', 'T', 'C', 'A', 'C', 'C', 'A', 'C', 'C', 'C', 'C', 'A', 'C', 'G', 'G', 'C', 'T', 'C', 'C', 'T', 'C', 'C', 'A', 'A', 'C', 'C', 'C', 'T', 'T', 'C', 'A', 'A', 'A', 'A', 'A', 'A', 'T', 'C', 'T', 'C', 'G', 'C', 'C', 'C', 'T', 'C', 'T', 'T', 'C', 'A', 'C', 'G', 'A', 'G', 'A', 'G', 'A', 'G', 'C', 'C', 'A', 'C', 'C', 'A', 'T', 'A', 'T', 'T', 'C', 'A', 'A', 'T', 'A', 'A', 'A', 'C', 'C', 'C', 'T', 'C', 'A', 'T', 'T', 'T', 'T', 'C', 'A', 'A', 'C', 'A', 'C', 'T', 'C', 'T', 'C', 'C', 'C', 'T', 'C', 'A', 'A', 'C', 'C', 'A', 'C', 'G', 'T', 'G', 'A', 'T', 'A', 'C', 'A', 'C', 'T', 'G', 'G']]\n"
     ]
    }
   ],
   "source": [
    "poly_array = []                                               #(1) Initializes a blank list that will be populated with each sequence's values at the polymorphism sites.\n",
    "for j in range(9):                                            #(2) Initializes a for-loop over the number of species (sequences) being compared.\n",
    "    seq = []                                                  #(3) Initializes a blank list that will be populated with the nucleotides in the jth sequence located at each polymorphism site.\n",
    "    for i in range(len(poly_site)):                           #(4) Initializes a for-loop over the total number of polymorphism sites occurring in the sequences.\n",
    "        seq.append(cytb_seqs[species_list[j]][poly_site[i]])  #(5) Returns the value of the jth sequence at each polymorphism site, and appends the result to the 'seq' list.\n",
    "    poly_array.append(seq)                                    #(6) Appends the full list of the jth sequence's values at the polymorphism sites to the 'poly_array'.\n",
    "print(poly_array)                                             #(7) Returns the array containing the lists of each sequence's values at the polymorphism sites."
   ]
  },
  {
   "cell_type": "code",
   "execution_count": 69,
   "metadata": {},
   "outputs": [],
   "source": [
    "poly_df = pd.DataFrame(poly_array)  # Converts the list of each sequence's values at the polymorphism sites to a pandas DataFrame."
   ]
  },
  {
   "cell_type": "code",
   "execution_count": 70,
   "metadata": {},
   "outputs": [],
   "source": [
    "poly_df.columns = poly_site  # Sets the sequence positions of the polymorphisms as the column labels."
   ]
  },
  {
   "cell_type": "code",
   "execution_count": 71,
   "metadata": {},
   "outputs": [
    {
     "data": {
      "text/html": [
       "<div>\n",
       "<style scoped>\n",
       "    .dataframe tbody tr th:only-of-type {\n",
       "        vertical-align: middle;\n",
       "    }\n",
       "\n",
       "    .dataframe tbody tr th {\n",
       "        vertical-align: top;\n",
       "    }\n",
       "\n",
       "    .dataframe thead th {\n",
       "        text-align: right;\n",
       "    }\n",
       "</style>\n",
       "<table border=\"1\" class=\"dataframe\">\n",
       "  <thead>\n",
       "    <tr style=\"text-align: right;\">\n",
       "      <th></th>\n",
       "      <th>4</th>\n",
       "      <th>20</th>\n",
       "      <th>23</th>\n",
       "      <th>27</th>\n",
       "      <th>31</th>\n",
       "      <th>32</th>\n",
       "      <th>38</th>\n",
       "      <th>41</th>\n",
       "      <th>46</th>\n",
       "      <th>51</th>\n",
       "      <th>...</th>\n",
       "      <th>1107</th>\n",
       "      <th>1109</th>\n",
       "      <th>1112</th>\n",
       "      <th>1118</th>\n",
       "      <th>1121</th>\n",
       "      <th>1123</th>\n",
       "      <th>1124</th>\n",
       "      <th>1129</th>\n",
       "      <th>1133</th>\n",
       "      <th>1136</th>\n",
       "    </tr>\n",
       "  </thead>\n",
       "  <tbody>\n",
       "    <tr>\n",
       "      <th>Ursus spelaeus</th>\n",
       "      <td>C</td>\n",
       "      <td>C</td>\n",
       "      <td>T</td>\n",
       "      <td>T</td>\n",
       "      <td>C</td>\n",
       "      <td>T</td>\n",
       "      <td>C</td>\n",
       "      <td>C</td>\n",
       "      <td>A</td>\n",
       "      <td>T</td>\n",
       "      <td>...</td>\n",
       "      <td>G</td>\n",
       "      <td>A</td>\n",
       "      <td>T</td>\n",
       "      <td>A</td>\n",
       "      <td>C</td>\n",
       "      <td>A</td>\n",
       "      <td>C</td>\n",
       "      <td>T</td>\n",
       "      <td>G</td>\n",
       "      <td>A</td>\n",
       "    </tr>\n",
       "    <tr>\n",
       "      <th>Ursus arctos</th>\n",
       "      <td>C</td>\n",
       "      <td>C</td>\n",
       "      <td>C</td>\n",
       "      <td>T</td>\n",
       "      <td>C</td>\n",
       "      <td>T</td>\n",
       "      <td>C</td>\n",
       "      <td>C</td>\n",
       "      <td>A</td>\n",
       "      <td>C</td>\n",
       "      <td>...</td>\n",
       "      <td>G</td>\n",
       "      <td>A</td>\n",
       "      <td>T</td>\n",
       "      <td>A</td>\n",
       "      <td>T</td>\n",
       "      <td>A</td>\n",
       "      <td>C</td>\n",
       "      <td>T</td>\n",
       "      <td>G</td>\n",
       "      <td>G</td>\n",
       "    </tr>\n",
       "    <tr>\n",
       "      <th>Ursus thibetanus</th>\n",
       "      <td>C</td>\n",
       "      <td>C</td>\n",
       "      <td>T</td>\n",
       "      <td>T</td>\n",
       "      <td>C</td>\n",
       "      <td>C</td>\n",
       "      <td>C</td>\n",
       "      <td>C</td>\n",
       "      <td>A</td>\n",
       "      <td>C</td>\n",
       "      <td>...</td>\n",
       "      <td>G</td>\n",
       "      <td>A</td>\n",
       "      <td>C</td>\n",
       "      <td>A</td>\n",
       "      <td>C</td>\n",
       "      <td>A</td>\n",
       "      <td>C</td>\n",
       "      <td>C</td>\n",
       "      <td>A</td>\n",
       "      <td>A</td>\n",
       "    </tr>\n",
       "    <tr>\n",
       "      <th>Melursus ursinus</th>\n",
       "      <td>C</td>\n",
       "      <td>C</td>\n",
       "      <td>C</td>\n",
       "      <td>T</td>\n",
       "      <td>C</td>\n",
       "      <td>T</td>\n",
       "      <td>C</td>\n",
       "      <td>T</td>\n",
       "      <td>A</td>\n",
       "      <td>C</td>\n",
       "      <td>...</td>\n",
       "      <td>G</td>\n",
       "      <td>A</td>\n",
       "      <td>C</td>\n",
       "      <td>A</td>\n",
       "      <td>T</td>\n",
       "      <td>A</td>\n",
       "      <td>T</td>\n",
       "      <td>C</td>\n",
       "      <td>G</td>\n",
       "      <td>A</td>\n",
       "    </tr>\n",
       "    <tr>\n",
       "      <th>Ursus americanus</th>\n",
       "      <td>C</td>\n",
       "      <td>C</td>\n",
       "      <td>C</td>\n",
       "      <td>T</td>\n",
       "      <td>C</td>\n",
       "      <td>T</td>\n",
       "      <td>C</td>\n",
       "      <td>C</td>\n",
       "      <td>A</td>\n",
       "      <td>C</td>\n",
       "      <td>...</td>\n",
       "      <td>G</td>\n",
       "      <td>G</td>\n",
       "      <td>C</td>\n",
       "      <td>A</td>\n",
       "      <td>T</td>\n",
       "      <td>A</td>\n",
       "      <td>C</td>\n",
       "      <td>C</td>\n",
       "      <td>A</td>\n",
       "      <td>A</td>\n",
       "    </tr>\n",
       "    <tr>\n",
       "      <th>Helarctos malayanus</th>\n",
       "      <td>C</td>\n",
       "      <td>C</td>\n",
       "      <td>C</td>\n",
       "      <td>T</td>\n",
       "      <td>C</td>\n",
       "      <td>T</td>\n",
       "      <td>C</td>\n",
       "      <td>T</td>\n",
       "      <td>A</td>\n",
       "      <td>C</td>\n",
       "      <td>...</td>\n",
       "      <td>G</td>\n",
       "      <td>A</td>\n",
       "      <td>T</td>\n",
       "      <td>A</td>\n",
       "      <td>T</td>\n",
       "      <td>A</td>\n",
       "      <td>C</td>\n",
       "      <td>C</td>\n",
       "      <td>A</td>\n",
       "      <td>A</td>\n",
       "    </tr>\n",
       "    <tr>\n",
       "      <th>Ailuropoda melanoleuca</th>\n",
       "      <td>T</td>\n",
       "      <td>T</td>\n",
       "      <td>T</td>\n",
       "      <td>T</td>\n",
       "      <td>T</td>\n",
       "      <td>T</td>\n",
       "      <td>T</td>\n",
       "      <td>C</td>\n",
       "      <td>A</td>\n",
       "      <td>T</td>\n",
       "      <td>...</td>\n",
       "      <td>A</td>\n",
       "      <td>C</td>\n",
       "      <td>T</td>\n",
       "      <td>G</td>\n",
       "      <td>T</td>\n",
       "      <td>G</td>\n",
       "      <td>C</td>\n",
       "      <td>C</td>\n",
       "      <td>A</td>\n",
       "      <td>A</td>\n",
       "    </tr>\n",
       "    <tr>\n",
       "      <th>Tremarctos ornatus</th>\n",
       "      <td>C</td>\n",
       "      <td>T</td>\n",
       "      <td>C</td>\n",
       "      <td>C</td>\n",
       "      <td>C</td>\n",
       "      <td>T</td>\n",
       "      <td>C</td>\n",
       "      <td>C</td>\n",
       "      <td>G</td>\n",
       "      <td>T</td>\n",
       "      <td>...</td>\n",
       "      <td>G</td>\n",
       "      <td>A</td>\n",
       "      <td>C</td>\n",
       "      <td>A</td>\n",
       "      <td>T</td>\n",
       "      <td>A</td>\n",
       "      <td>C</td>\n",
       "      <td>C</td>\n",
       "      <td>G</td>\n",
       "      <td>A</td>\n",
       "    </tr>\n",
       "    <tr>\n",
       "      <th>Ursus maritimus</th>\n",
       "      <td>C</td>\n",
       "      <td>C</td>\n",
       "      <td>C</td>\n",
       "      <td>T</td>\n",
       "      <td>C</td>\n",
       "      <td>T</td>\n",
       "      <td>C</td>\n",
       "      <td>C</td>\n",
       "      <td>A</td>\n",
       "      <td>T</td>\n",
       "      <td>...</td>\n",
       "      <td>G</td>\n",
       "      <td>A</td>\n",
       "      <td>T</td>\n",
       "      <td>A</td>\n",
       "      <td>C</td>\n",
       "      <td>A</td>\n",
       "      <td>C</td>\n",
       "      <td>T</td>\n",
       "      <td>G</td>\n",
       "      <td>G</td>\n",
       "    </tr>\n",
       "  </tbody>\n",
       "</table>\n",
       "<p>9 rows × 357 columns</p>\n",
       "</div>"
      ],
      "text/plain": [
       "                       4    20   23   27   31   32   38   41   46   51   ...   \\\n",
       "Ursus spelaeus            C    C    T    T    C    T    C    C    A    T ...    \n",
       "Ursus arctos              C    C    C    T    C    T    C    C    A    C ...    \n",
       "Ursus thibetanus          C    C    T    T    C    C    C    C    A    C ...    \n",
       "Melursus ursinus          C    C    C    T    C    T    C    T    A    C ...    \n",
       "Ursus americanus          C    C    C    T    C    T    C    C    A    C ...    \n",
       "Helarctos malayanus       C    C    C    T    C    T    C    T    A    C ...    \n",
       "Ailuropoda melanoleuca    T    T    T    T    T    T    T    C    A    T ...    \n",
       "Tremarctos ornatus        C    T    C    C    C    T    C    C    G    T ...    \n",
       "Ursus maritimus           C    C    C    T    C    T    C    C    A    T ...    \n",
       "\n",
       "                       1107 1109 1112 1118 1121 1123 1124 1129 1133 1136  \n",
       "Ursus spelaeus            G    A    T    A    C    A    C    T    G    A  \n",
       "Ursus arctos              G    A    T    A    T    A    C    T    G    G  \n",
       "Ursus thibetanus          G    A    C    A    C    A    C    C    A    A  \n",
       "Melursus ursinus          G    A    C    A    T    A    T    C    G    A  \n",
       "Ursus americanus          G    G    C    A    T    A    C    C    A    A  \n",
       "Helarctos malayanus       G    A    T    A    T    A    C    C    A    A  \n",
       "Ailuropoda melanoleuca    A    C    T    G    T    G    C    C    A    A  \n",
       "Tremarctos ornatus        G    A    C    A    T    A    C    C    G    A  \n",
       "Ursus maritimus           G    A    T    A    C    A    C    T    G    G  \n",
       "\n",
       "[9 rows x 357 columns]"
      ]
     },
     "execution_count": 71,
     "metadata": {},
     "output_type": "execute_result"
    }
   ],
   "source": [
    "poly_df.set_index([species_list])  # Sets the species names as the row labels."
   ]
  },
  {
   "cell_type": "markdown",
   "metadata": {},
   "source": [
    "##### As the 'poly_df' table above suggests though, at any given polymorphic site most of the species still tend to have the same nucleotide present, while only a couple species 'deviate' from the group. For each species then, we can determine the number of these sites at which the species has a nucleotide that differs from the 'group average' nucleotide at that site. (This will provide a measure of the relative degree of polymorphism present in each species' sequence.)"
   ]
  },
  {
   "cell_type": "code",
   "execution_count": 72,
   "metadata": {},
   "outputs": [
    {
     "name": "stdout",
     "output_type": "stream",
     "text": [
      "[52, 54, 85, 66, 94, 67, 151, 138, 46]\n"
     ]
    }
   ],
   "source": [
    "seq_poly = [] #(1) Initializes a blank list that will be populated with the number of nucleotides in each sequence located at each polymorphism site.\n",
    "for i in range(9): #(2) Initializes a for-loop over the number of species (sequences) present.\n",
    "    poly_i = 0 #(3) Initializes a counter for the number of sites where the ith species has a nucleotide that differs from the 'group average' nucleotide at that site.\n",
    "    for n in range(len(poly_site)):\n",
    "        count = 0\n",
    "        for j in range(9):\n",
    "            seq_j = cytb_seqs[species_list[j]]\n",
    "            if cytb_seqs[species_list[i]][poly_site[n]] == seq_j[poly_site[n]]:\n",
    "                count += 1\n",
    "        if count < 5:\n",
    "            poly_i +=1\n",
    "    seq_poly.insert(i, poly_i)\n",
    "print(seq_poly)"
   ]
  },
  {
   "cell_type": "code",
   "execution_count": 28,
   "metadata": {},
   "outputs": [],
   "source": [
    "seq_dev = pd.DataFrame(seq_poly)"
   ]
  },
  {
   "cell_type": "code",
   "execution_count": 29,
   "metadata": {},
   "outputs": [],
   "source": [
    "seq_dev.columns = [\"Sites\"]"
   ]
  },
  {
   "cell_type": "code",
   "execution_count": 30,
   "metadata": {},
   "outputs": [],
   "source": [
    "seq_dev = seq_dev.set_index([species_list]).Sites"
   ]
  },
  {
   "cell_type": "code",
   "execution_count": 31,
   "metadata": {},
   "outputs": [
    {
     "data": {
      "text/plain": [
       "Text(0.5,0,'Species')"
      ]
     },
     "execution_count": 31,
     "metadata": {},
     "output_type": "execute_result"
    },
    {
     "data": {
      "image/png": "[encoded data removed]",
      "text/plain": [
       "<Figure size 432x288 with 1 Axes>"
      ]
     },
     "metadata": {
      "needs_background": "light"
     },
     "output_type": "display_data"
    }
   ],
   "source": [
    "dev_plot = seq_dev.plot(kind='bar',title='Deviations from Group Average Sequence', color='blue') #(1) Creates a bar graph out of the 'seq_dev' series with the title 'Deviations from Group Average Sequence', and saves it under the figure variable 'dev_plot'.\n",
    "dev_plot.set_ylabel(\"Deviation Sites\") #(2) Labels the y-axis on the bar chart as 'Deviation Sites'.\n",
    "dev_plot.set_xlabel(\"Species\") #(3) Labels the x-axis on the bar chart as 'Species'."
   ]
  },
  {
   "cell_type": "code",
   "execution_count": null,
   "metadata": {},
   "outputs": [],
   "source": []
  }
 ],
 "metadata": {
  "kernelspec": {
   "display_name": "Python 3",
   "language": "python",
   "name": "python3"
  },
  "language_info": {
   "codemirror_mode": {
    "name": "ipython",
    "version": 3
   },
   "file_extension": ".py",
   "mimetype": "text/x-python",
   "name": "python",
   "nbconvert_exporter": "python",
   "pygments_lexer": "ipython3",
   "version": "3.7.0"
  }
 },
 "nbformat": 4,
 "nbformat_minor": 2
}
